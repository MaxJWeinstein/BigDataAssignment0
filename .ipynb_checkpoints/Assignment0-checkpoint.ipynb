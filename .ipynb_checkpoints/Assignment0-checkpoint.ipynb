{
 "cells": [
  {
   "cell_type": "markdown",
   "id": "ad81d3be-303e-475a-a236-9577cc63f484",
   "metadata": {
    "tags": []
   },
   "source": [
    "# Assignment 0\n",
    "\n",
    "#### Dislcaimers\n",
    "\n",
    "This assignment is intended to provide resources and guidance on the tools used to perform computations on Big Data. \n",
    "\n",
    "This isn't a complete documentation of these tools. Such documentation already exists, and links to it will be included in each section.\n",
    "\n",
    "Feel free to skim. There are exercises throughout to test your understanding, but the only graded part are the questions at the end, in the section \"Questions\".\n",
    "\n",
    "## Table of Contents\n",
    "\n",
    "* JupyterLab Basics\n",
    "\n",
    "    * What is a Notebook?\n",
    "    \n",
    "    * What is a kernel?\n",
    "    \n",
    "    * How to use JupyterLab\n",
    "\n",
    "* Python Basics\n",
    "\n",
    "    * Data Types, Variable Assignment\n",
    "    \n",
    "    * Basic useful functions and operations (print, +=, %, //)\n",
    "    \n",
    "    * Control Flow\n",
    "    \n",
    "    * Objects\n",
    "    \n",
    "    * Functions\n",
    "    \n",
    "    * Exceptions\n",
    "    \n",
    "    * Miscellaneous Useful built-ins (sys, os, pickle)\n",
    "    \n",
    "* Rhino Basics\n",
    "\n",
    "* NumPy\n",
    "\n",
    "* Matplotlib\n",
    "\n",
    "* Pandas\n",
    "\n",
    "* xArray\n",
    "\n",
    "* Statistics"
   ]
  },
  {
   "cell_type": "markdown",
   "id": "387625f0-bb79-4589-96d4-f53da0cefac3",
   "metadata": {
    "jp-MarkdownHeadingCollapsed": true,
    "tags": []
   },
   "source": [
    "## JupyterLab Basics\n",
    "\n"
   ]
  },
  {
   "cell_type": "markdown",
   "id": "71de039e-632f-4899-9676-67d191a47f69",
   "metadata": {},
   "source": [
    "Project Jupyter Docs: https://docs.jupyter.org/en/latest/index.html\n",
    "\n",
    "JupyterLab Docs: https://jupyterlab.readthedocs.io/en/latest/\n",
    "\n",
    "Jupyter Architecture: https://docs.jupyter.org/en/latest/projects/architecture/content-architecture.html\n",
    "\n",
    "JupyterHub Docs: https://jupyterhub.readthedocs.io/en/latest/\n",
    "\n",
    "IPython Docs: https://ipython.readthedocs.io/en/stable/\n",
    "\n",
    "Jupyter Client Docs: https://jupyter-client.readthedocs.io/en/latest/\n",
    "\n",
    "jupyter_core Docs: https://jupyter-core.readthedocs.io/en/latest/\n",
    "\n",
    "Jupyter Widgets Docs: https://ipywidgets.readthedocs.io/en/stable/\n",
    "\n",
    "Notebook Diff-ing: https://nbdime.readthedocs.io/en/latest/\n",
    "\n",
    "nbgrader: https://nbgrader.readthedocs.io/en/latest/"
   ]
  },
  {
   "cell_type": "markdown",
   "id": "a6030801-8b52-4940-bf99-1f152487d9a9",
   "metadata": {},
   "source": [
    "### Interactive Python\n",
    "\n",
    "If you open up a terminal (either with your computer's terminal application, or in JupyterLab by pressing the blue plus sign and selecting 'Terminal' in the 'Launcher' tab that pops up) and enter the command `python`, you should be greeted with something similar to this:\n",
    "\n",
    "<p><img src=\"images/interactive-python-prompt.png\" alt=\"Interactive Python Command-Line Prompt\" title=\"Interactive Python Session\" style=\"width:30%;height:30%\"/></p>\n",
    "\n",
    "(Don't worry if some parts of it look different on your computer - that just means that your terminal is set up differently from the one this screenshot was taken from.)\n",
    "\n",
    "You have now entered an *interactive Python session*, meaning that if you type something and press `Enter`, your computer will run it as Python code, and present you with another *prompt* (that's the `>>>` thing at the start of the line) while it waits for your next instruction. You can also enter the command `help`, like the opening prompt suggests, to get some help. You can try it out for yourself:\n",
    "\n",
    "<p><img src=\"images/interactive-python-playing-around.png\" alt=\"Playing Around With Interactive Python\" title=\"Exploring the Basics\" style=\"width:20%;height:20%\"/></p>\n",
    "\n",
    "Notice how the result of each line gets printed below it. You can store values in variables to use them later - notice that nothing gets printed after lines like `x=1`, because those line don't return a value:\n",
    "\n",
    "<p><img src=\"images/interactive-python-variables.png\" alt=\"Variables in Interactive Python\" title=\"Using Variables Interactively\" style=\"width:15%;height:15%\"></p>\n",
    "\n",
    "Now, you will not be using this built-in version of interactive Python sessions in this class for anything other than perhaps for testing simple ideas (e.g. \"Does this function work how I think it does?\"). But even in that case, probably not. Because there is a better way to run Python interactively, which is the foundation of the \"Notebook\" you're reading this from right now: IPython.\n",
    "\n",
    "Before moving on, you can end your interactive Python session by entering the command `quit()`. Also, you should be in JupyterLab for all of the following sections, if you weren't already."
   ]
  },
  {
   "cell_type": "markdown",
   "id": "f238ac37-8521-438c-965c-863d5506d272",
   "metadata": {
    "tags": []
   },
   "source": [
    "### IPython\n",
    "\n",
    "If you open up the Launcher in JupyterLab (by clicking the blue plus sign in the top left), you should see three sections: \"Notebook\", \"Console\", and \"Other\". We're going to focus on the \"Console\" section here. It should have two boxes, labeled \"Python 3 (ipykernel)\" and \"workshop\". For now it doesn't matter which one you choose.\n",
    "\n",
    "<p><img src=\"images/jupyterlab-open-console.png\" alt=\"Opening a Console in JupyterLab\" title=\"How to open a new console in JupyterLab\" style=\"width:30%;height:30%\"></p>\n",
    "\n",
    "You'll be met with a screen not unlike the interactive Python session, except that the prompt is gone. Instead, your cursor is in a space at the bottom of the screen, which has a pair of open brackets next to it:\n",
    "\n",
    "![IPython Prompt](images/ipython-prompt-line.png \"The IPython command prompt\")\n",
    "\n",
    "This screen is running *IPython*, an application that takes Python's built-in interactive mode and improves upon it in many areas. For instance, you may notice that your code is colored in a way that makes it easier to read and understand (called *syntax highlighting*). This IPython Code Console also makes it easier to write commands that take more than one line: when you hit `Enter`, you'll add a new line to your command, and you can continue working on your command until you're ready to run it, by pressing `Shift+Enter`. We'll refer to these commands as *cells* from now on (this will make more sense soon).\n",
    "\n",
    "A few of the basic features of IPython to be aware of:\n",
    "\n",
    "* If you run `?` by itself, IPython will give you an overview of its features\n",
    "\n",
    "* If you run `x?`, where `x` is a variable (really `x` just needs to be a *name*, whether the thing it names is a number, a function, or anything else), IPython will give you a description of `x`. Use `x??` for even more details on `x`\n",
    "\n",
    "* If you press `Tab` while typing, IPython will list the different ways you could finish the word you're typing, and if there's exactly one possible guess it will complete it for you. This is called *tab completion*. It's very handy if you have a long variable name that you don't want to misspell, or if you want to look at the different attributes a variable has (by typing, e.g. `x.<TAB>` to get a list of the attributes `x` has)\n",
    "\n",
    "And a few of the more advanced features of IPython, in case they're ever relevant:\n",
    "\n",
    "* IPython has commands called \"*magic functions*\", which come at the beginning of a line and start with `%` (or `%%`, if you want it to affect the whole cell it's in). Most of these probably aren't worth taking the time to learn, but a useful yet simple magic function is `%timeit` (or `%%timeit`). As you can probably guess, they tell you how long it takes that line (or cell) to run\n",
    "\n",
    "    * There are one or two other magic functions that will come up in this assignment. They, like `%timeit`, are not essential\n",
    "\n",
    "* You can run terminal commands from IPython by inserting a `!`. The rest of the line after the exclamation point will be passed to the operating system. For instance, you can run `myfiles = !ls` to get a list of the files and directories in your working directory. This is generally not a good idea, as there are usually safer ways to do the same things using only Python\n"
   ]
  },
  {
   "cell_type": "markdown",
   "id": "172e3ee7-4817-4054-96ab-dd1adfb0160b",
   "metadata": {
    "tags": []
   },
   "source": [
    "### Kernels\n",
    "\n",
    "If you recall how the Launcher looked, there were two boxes in the Console section. What do they mean?\n",
    "\n",
    "The two ways of \"running Python interactively\" we've seen so far are examples of *REPLs*. This stands for *Read, Evaluate, Print, Loop*, and it summarizes what they do on a basic level:\n",
    "\n",
    "* *Read* user input: This is what happens when you hit `Enter` or `Shift+Enter` when you want to run your command\n",
    "\n",
    "* *Evaluate* the input appropriately: In our case, this usually means running it as Python code, with all the effects of the previously-run cells still in force\n",
    "\n",
    "* *Print* the result of this evaluation to the screen: If there is no \"result\", then nothing gets printed at this step\n",
    "\n",
    "* *Loop*: Go back the Read step and wait for the next piece of user input. Keep looping like this until told to stop\n",
    "\n",
    "In additon to improving on the User Interface of the built-in Python REPL, IPython changed its REPL model by performing the evaluation part in a separately running program, called a *kernel*. When you start up the IPython Code Console, you are actually running two computer programs: the *client* (here, the Code Console) and the kernel. The client takes your input (Python code, mostly), does some processing to make working with it easier, and sends it off to the kernel. The kernel attempts to evaluate your input, and sends a message back to the client letting it know when it's finished, and tells the client what the result was. Finally, the client takes any results, prints them, and gets ready to handle the next piece of user input.\n",
    "\n",
    "Using a separate kernel has several benefits. It's possible for multiple clients to share a kernel, allowing them to share variables. So while you work on your assignment in a Jupyter Notebook, you can have a Code Console in a window to the side connected to the same kernel, allowing you to check the values of variables and the results of expressions quite easily. It's also possible for the client(s) and the kernel to run on different computers, as they just need to be able to communicate. This means a user can run resource-intensive Python code through a web browser, by connecting to a kernel running on a server. Separating out the kernel also makes it easier to customize the REPL. For instance, the \"workshop\" kernel that we're using for this course is already loaded with the right libraries, so anytime someone starts up a console with this kernel, they'll have access to the libraries they need. Lastly, having a separate kernel process means that we can close JupyterLab and come back the next day to still have our variables defined the same way, because we left our kernel running. This doesn't mean that you should never shut down your kernels - like having too many browser tabs open, leaving many kernels running is usually unnecessary and takes away resources from the rest of the computer. If you don't want to lose the result of a calculation, you should save it to a file. (We go over saving results with the `pickle` module further down.)\n",
    "\n",
    "It's worth addressing that the word \"kernel\" is used both for the running process that clients communicate with to evaluate code, and for the program used to start that process. If you start up a Console with the \"workshop\" kernel and define a variable, that variable is not permanently a part of the \"workshop\" kernel, because here '\"workshop\" kernel' is a program used to start a new kernel process. You can use that kernel process for a different Console and have access to the variable that way, but when you shut down or restart the kernel process, the variables you defined are not saved."
   ]
  },
  {
   "cell_type": "markdown",
   "id": "6994b165-b40f-425f-80e3-be58f09a8943",
   "metadata": {
    "execution": {
     "iopub.execute_input": "2023-07-18T12:38:58.612498Z",
     "iopub.status.busy": "2023-07-18T12:38:58.611918Z",
     "iopub.status.idle": "2023-07-18T12:38:58.639468Z",
     "shell.execute_reply": "2023-07-18T12:38:58.638028Z",
     "shell.execute_reply.started": "2023-07-18T12:38:58.612336Z"
    },
    "tags": []
   },
   "source": [
    "### Jupyter Notebooks\n",
    "\n",
    "At last, we come to Jupyter Notebooks. What is a Jupyter Notebook, you ask? Well, it's the thing you're reading right now! But for a broader sense, here's the opener from the Jupyter Documentation:\n",
    "\n",
    ">A notebook is a shareable document that combines computer code, plain language descriptions, data, rich visualizations like 3D models, charts, graphs and figures, and interactive controls. A notebook, along with an editor like JupyterLab, provides a fast interactive environment for prototyping and explaining code, exploring and visualizing data, and sharing ideas with others.\n",
    "\n",
    "And here's how it's explained in the JupyterLab Documentation:\n",
    "\n",
    ">Jupyter notebooks are documents that combine live runnable code with narrative text (Markdown), equations (LaTeX), images, interactive visualizations and other rich output\n",
    "\n",
    "In a concrete sense, Jupyter Notebooks are files (with the extension `.ipynb`) that combine formatted text and images with blocks of code that can be run one-by-one (\"*code cells*\"). All of the content in a Notebook is actually organized into *cells* (*Markdown cells* and *raw cells*, although the latter type only has niche uses). Much of the work in this course consists of writing and running code cells in Notebooks.\n",
    "\n",
    "In order to run the code cells, Jupyter Notebooks use the infrastructure we talked about in IPython: When you open a Notebook in JupyterLab, you also open a kernel that's kept running behind the scenes. (We will be using the \"workshop\" kernel on Rhino for everything in this class.) When you run a code cell, it gets sent off to the kernel to run, and any results are printed below the cell. It's kind of like taking the code cell you want to run and copy-pasting it into a Code Console. In fact, you'll see that the appearance is largely the same, too: each code cell has brackets next to it that tell you when you ran the cell (i.e. whether it was the 1st you ran, or the 2nd, the 3rd, the 25th, etc., or that it hasn't been ran yet).\n",
    "\n",
    "<p><img src=\"images/notebook_components.png\" alt=\"A diagram of the components of using a Jupyter Notebook\" title=\"The components of a Jupyter Notebook\"></p>\n",
    "\n",
    "Here, try it out for yourself! This is a code cell that should display the text `Hello, world!`. You can run it by clicking on the cell and pressing `Shift+Enter`:"
   ]
  },
  {
   "cell_type": "code",
   "execution_count": 16,
   "id": "e3362abc-1d5d-4f9b-9a13-fc038b026d1a",
   "metadata": {
    "execution": {
     "iopub.execute_input": "2023-07-19T19:07:43.102382Z",
     "iopub.status.busy": "2023-07-19T19:07:43.101917Z",
     "iopub.status.idle": "2023-07-19T19:07:43.108389Z",
     "shell.execute_reply": "2023-07-19T19:07:43.107012Z",
     "shell.execute_reply.started": "2023-07-19T19:07:43.102325Z"
    },
    "tags": []
   },
   "outputs": [
    {
     "name": "stdout",
     "output_type": "stream",
     "text": [
      "Hello, world!\n"
     ]
    }
   ],
   "source": [
    "print(\"Hello, world!\")"
   ]
  },
  {
   "cell_type": "markdown",
   "id": "3edc044b-b8bf-4eac-b088-6774890333fa",
   "metadata": {},
   "source": [
    "And even though these cells don't say to print anything, the result of the last line should still appear underneath: (Again, `Shift+Enter` to run each cell)"
   ]
  },
  {
   "cell_type": "code",
   "execution_count": 10,
   "id": "f65ad7a5-4f24-4b83-b901-738cc7e26243",
   "metadata": {
    "execution": {
     "iopub.execute_input": "2023-07-19T13:36:08.504345Z",
     "iopub.status.busy": "2023-07-19T13:36:08.503882Z",
     "iopub.status.idle": "2023-07-19T13:36:08.513837Z",
     "shell.execute_reply": "2023-07-19T13:36:08.512493Z",
     "shell.execute_reply.started": "2023-07-19T13:36:08.504287Z"
    },
    "tags": []
   },
   "outputs": [
    {
     "data": {
      "text/plain": [
       "16.0"
      ]
     },
     "execution_count": 10,
     "metadata": {},
     "output_type": "execute_result"
    }
   ],
   "source": [
    "7 + 3\n",
    "3*4 + (6 - 4/2)"
   ]
  },
  {
   "cell_type": "code",
   "execution_count": 11,
   "id": "215d636e-a642-4cdb-81c3-f2468cb83e2d",
   "metadata": {
    "execution": {
     "iopub.execute_input": "2023-07-19T13:36:09.720073Z",
     "iopub.status.busy": "2023-07-19T13:36:09.719673Z",
     "iopub.status.idle": "2023-07-19T13:36:09.729176Z",
     "shell.execute_reply": "2023-07-19T13:36:09.727771Z",
     "shell.execute_reply.started": "2023-07-19T13:36:09.720019Z"
    },
    "tags": []
   },
   "outputs": [
    {
     "data": {
      "text/plain": [
       "1.4142135623730951"
      ]
     },
     "execution_count": 11,
     "metadata": {},
     "output_type": "execute_result"
    }
   ],
   "source": [
    "x = 2**(1/2)\n",
    "x # <-- You might find it helpful sometimes to check the value of a variable by placing it on the last line of a code cell. It often produces a nicer-looking output than using a print statement!"
   ]
  },
  {
   "cell_type": "markdown",
   "id": "860af46b-a703-42bf-ad8e-9156180f8ee0",
   "metadata": {
    "execution": {
     "iopub.execute_input": "2023-07-18T12:38:58.612498Z",
     "iopub.status.busy": "2023-07-18T12:38:58.611918Z",
     "iopub.status.idle": "2023-07-18T12:38:58.639468Z",
     "shell.execute_reply": "2023-07-18T12:38:58.638028Z",
     "shell.execute_reply.started": "2023-07-18T12:38:58.612336Z"
    },
    "tags": []
   },
   "source": [
    "### JupyterLab: What Is This Thing, and How Do I Use It?\n",
    "\n",
    "JupyterLab is an interface you run on a web browser that's used primarily for working with Notebooks. Here's how it describes itself in its documentation:\n",
    "\n",
    "> JupyterLab provides flexible building blocks for interactive, exploratory computing. While JupyterLab has many features found in traditional integrated development environments (IDEs), it remains focused on interactive, exploratory computing.\n",
    "\n",
    "You can do more than just create and edit Notebooks in JupyterLab. We've already seen that you can open terminals, giving you access to the Rhino2 file system (whether or not you have permissions to open a given file or directory on Rhino2 is a different matter...), and that you can open Code Consoles. You can also open other types of files in JupyterLab, including images, spreadsheets, plain text files, and PDFs. It's even possible to open a web site in JupyterLab! (Although there isn't much need to do so.) In a lot of ways, you can think of JupyterLab as providing a convenient Graphical User Interface to Rhino2, allowing you to do work on Rhino2 as you would on the computer right in front of you.\n",
    "\n",
    "Alright, enough talking about *what* you can do on JupyterLab; let's talk about *how* you can do them.\n",
    "\n",
    "#### Files and Kernels\n",
    "\n",
    "On the left sidebar, there is a *file browser*, where you can navigate to, open, create, and delete any of your files and folders on Rhino2. To open an existing file for editing, just double-click on it. Some files have different ways they can be opened, which can be found by right-clicking the file.\n",
    "\n",
    "When you open a Notebook for the first time, you will be prompted with a drop-down menu to select a kernel to use with the Notebook. For this class, always use the \"workshop\" kernel. JupyterLab saves this preference for the next time you open that Notebook. You can change the kernel you want to be using for a Notebook at any time by clicking on the kernel name, either in the bottom left or in the top right of the screen, or through the \"Kernel\" section of the *menu bar*.\n",
    "\n",
    "<p><center><img src=\"images/kernel-and-files.png\" alt=\"Pointing out the file browser and the places you can change your kernel\" title=\"File Browser and Kernel\" style=\"width:40%;height:40%\"></center></p>\n",
    "\n",
    "When you close a Notebook, the kernel keeps running. To shut down a kernel, either use the \"Kernel\" section of the menu bar, or go to *Running Terminals and Kernels* in the left sidebar (its icon looks like a circle with square cut out of it). From there, you can shut down any kernel or terminal that's still running.\n",
    "\n",
    "#### Basic Tips\n",
    "\n",
    "Most of using JupyterLab beyond this point can be figured out easily on your own (with some googling, perhaps). But here are some tips to help you get started:\n",
    "\n",
    "* You can run a cell by pressing the Play button in the top left of the Notebook, by pressing \"Run Selected Cells\" in the \"Run\" section of the Menu Bar, or by just pressing `Ctrl+Enter`\n",
    "\n",
    "* The left sidebar has a \"Table of Contents\" that can make it easier to navigate a Notebook\n",
    "\n",
    "* Pressing the Stop button in the top left of the Notebook will \"interrupt the kernel,\" cancelling execution of the cell being run. If you accidentally write an infinite loop, or you're about to overwrite a file that you want to keep, then this is for you\n",
    "\n",
    "* If something weird is happening, you can try *restarting your kernel* through the \"Kernel\" section of the Menu Bar. This is the equivalent of restarting a computer, or quitting and reopening an application. One way it might fix your problem is by giving you a fresh IPython session, without any variables that could be causing unexpected behavior, since restarting the kernel gets rid of *all* of the variables you've defined.\n",
    "\n",
    "\n",
    "#### Keyboard Shortcuts\n",
    "\n",
    "There are a number of keyboard shortcuts in JupyterLab that can help you write code more quickly. You can view your keyboard shortcuts in the *Advanced Settings Editor*, either by navigating to it in the \"Settings\" section of the menu bar, or by pressing `Meta+,` (where `Meta` is the Command key &#X2318; or the Windows key &#X229E;, depending on your keyboard). In order to get the most use out of the shortcuts, you should know that while you are interacting with a Notebook, you can be in one of two modes:\n",
    "\n",
    "* *Command Mode*, where you can select cells and use keyboard shortcuts that affect whole cells (like copying, deleting, and adding cells)\n",
    "\n",
    "* and *Edit Mode*, where you can edit the contents of a cell (this is just normal typing/coding)\n",
    "\n",
    "You can look in the bottom right of the screen to see which mode you're in. You can also tell which mode you're in by the appearance of the cell(s) you have *selected*. When a cell is selected, it will have a blue bar to its left, and its border will be visible. Additionally, the border will be blue if you are in Edit Mode, and the background will be grey if you are in Command Mode. (Code cells that have been modified since the last time they ran will be orange instead of blue.) Your cursor will also only be visible when you are in Edit Mode.\n",
    "\n",
    "For a better sense of your keyboard shortcuts you can go to the Advanced Settings Editor, but here are some highlights from the default shortcuts:\n",
    "\n",
    "* Command Mode:\n",
    "\n",
    "    * `A`/`B`: Insert a new cell Above/Below the selected cell(s)\n",
    "    \n",
    "    * `J`/`K`: Move Up/Down one cell\n",
    "    \n",
    "        * Hold `Shift` to select multiple cells\n",
    "        \n",
    "    * `D` twice: Delete the selected cell(s)\n",
    "    \n",
    "    * `I` twice: Interrupt the kernel (if the kernel is running a cell, this tells it to stop and return an error)\n",
    "    \n",
    "    * `0` twice: Restart the kernel (a message will appear to confirm that you want to)\n",
    "    \n",
    "    * `Z`: Undo (this considers changes across the whole Notebook, not just within the selected cell(s))\n",
    "    \n",
    "    * `Enter`: Enter Edit Mode (in the most recently selected cell)\n",
    "    \n",
    "* Edit Mode:\n",
    "\n",
    "    * `Ctrl+Shift+-`: Split the current cell in two at the cursor\n",
    "    \n",
    "    * `Esc` or `Ctrl+M`: Enter Command Mode (with the current cell selected)\n",
    "\n",
    "* Both Modes:\n",
    "\n",
    "    * `Shift+Enter`: Run the selected cell(s) and move down one cell (you are placed in Command Mode)\n",
    "    \n",
    "        * If there are no cells below your selection, this command will insert a new cell at the end of the Notebook to move to\n",
    "\n",
    "    * `Ctrl+Enter`: Run the selected cell(s) without moving cells (you are placed in Command Mode)\n",
    "    \n",
    "        * If you have multiple cells selected, only the last cell will remain selected\n",
    "\n",
    "    * `Alt+Enter`/`Option+Enter`: Run the selected cell(s) and insert a new cell below (you are placed in the new cell, in Edit Mode)\n",
    "    \n",
    "You can add or change the keyboard shortcuts in the Advance Settings Editor if you want, and there are many other settings you can adjust to fit your preferences."
   ]
  },
  {
   "cell_type": "markdown",
   "id": "096cef2e-0010-4a42-b26c-4c0cb001138f",
   "metadata": {},
   "source": [
    "## Python Basics"
   ]
  },
  {
   "cell_type": "markdown",
   "id": "1da6c10a-572b-4add-b915-c85a4979d980",
   "metadata": {
    "jp-MarkdownHeadingCollapsed": true,
    "tags": []
   },
   "source": [
    "### Arithmetic"
   ]
  },
  {
   "cell_type": "markdown",
   "id": "3ce1685c-0115-49a0-893d-5d929dee791e",
   "metadata": {},
   "source": [
    "Let's begin with simple mathematical operations. We will start with two variables: num_1 and num_2. We set them to 2 and 5, respectively."
   ]
  },
  {
   "cell_type": "code",
   "execution_count": 2,
   "id": "313c3e33-a26b-4e3a-a0c7-d6776e9ea5e5",
   "metadata": {
    "execution": {
     "iopub.execute_input": "2023-07-26T13:21:23.112867Z",
     "iopub.status.busy": "2023-07-26T13:21:23.112431Z",
     "iopub.status.idle": "2023-07-26T13:21:23.118076Z",
     "shell.execute_reply": "2023-07-26T13:21:23.116776Z",
     "shell.execute_reply.started": "2023-07-26T13:21:23.112812Z"
    }
   },
   "outputs": [],
   "source": [
    "num_1 = 2\n",
    "num_2 = 5"
   ]
  },
  {
   "cell_type": "markdown",
   "id": "425a8cc0-1c1e-49a2-b89c-9c6ef558d1dd",
   "metadata": {},
   "source": [
    "We can set new variables equal to expressions containing old ones. For example:"
   ]
  },
  {
   "cell_type": "code",
   "execution_count": 3,
   "id": "14c79f97-791c-4aeb-83e6-a90e3b467d42",
   "metadata": {
    "execution": {
     "iopub.execute_input": "2023-07-26T13:21:23.677635Z",
     "iopub.status.busy": "2023-07-26T13:21:23.677266Z",
     "iopub.status.idle": "2023-07-26T13:21:23.687315Z",
     "shell.execute_reply": "2023-07-26T13:21:23.685897Z",
     "shell.execute_reply.started": "2023-07-26T13:21:23.677586Z"
    }
   },
   "outputs": [],
   "source": [
    "num_3 = num_2 + num_1"
   ]
  },
  {
   "cell_type": "markdown",
   "id": "aeb09c2e-0370-423e-9565-1fbaaf3f2b5f",
   "metadata": {},
   "source": [
    "You can also add, multiply, divide, and even raise numbers to an exponent."
   ]
  },
  {
   "cell_type": "code",
   "execution_count": 4,
   "id": "55e8a706-cfb2-47e8-9feb-d8a21cc4a81e",
   "metadata": {
    "execution": {
     "iopub.execute_input": "2023-07-26T13:21:24.570761Z",
     "iopub.status.busy": "2023-07-26T13:21:24.570365Z",
     "iopub.status.idle": "2023-07-26T13:21:24.577359Z",
     "shell.execute_reply": "2023-07-26T13:21:24.575715Z",
     "shell.execute_reply.started": "2023-07-26T13:21:24.570708Z"
    },
    "tags": []
   },
   "outputs": [],
   "source": [
    "# Addition\n",
    "add = num_1 + num_2\n",
    "\n",
    "# Subtraction\n",
    "sub = num_1 - num_2\n",
    "\n",
    "# Multiplication\n",
    "mul = num_1 * num_2\n",
    "\n",
    "# Division\n",
    "div = num_2 / num_1\n",
    "\n",
    "# Exponentiation\n",
    "exp = num_1 ** num_2"
   ]
  },
  {
   "cell_type": "markdown",
   "id": "364d83bf-c192-437f-a2de-9a602b5b210c",
   "metadata": {},
   "source": [
    "Notice how we didn't have to \"declare\" our variables, like you may be used to doing in languages like Java or C++. All you do to create a variable in Python is assign a value to it."
   ]
  },
  {
   "cell_type": "markdown",
   "id": "29f11c85-97d4-495f-90c3-b6dab875122c",
   "metadata": {
    "jp-MarkdownHeadingCollapsed": true,
    "tags": []
   },
   "source": [
    "### Strings and Printing"
   ]
  },
  {
   "cell_type": "markdown",
   "id": "189f0772-abe3-4f11-b993-c4c2ea14aec1",
   "metadata": {},
   "source": [
    "So, we can represent numerical information with our variables. But what if we want to see the results? Or what if we want to work with textual data, like names? Then we would be working with *strings*, which is just text. Here are some examples:"
   ]
  },
  {
   "cell_type": "code",
   "execution_count": 9,
   "id": "5ac3b23b-0bf4-4e57-b7ea-6484fab49cee",
   "metadata": {
    "execution": {
     "iopub.execute_input": "2023-07-26T13:32:58.208432Z",
     "iopub.status.busy": "2023-07-26T13:32:58.207934Z",
     "iopub.status.idle": "2023-07-26T13:32:58.214458Z",
     "shell.execute_reply": "2023-07-26T13:32:58.213226Z",
     "shell.execute_reply.started": "2023-07-26T13:32:58.208373Z"
    },
    "tags": []
   },
   "outputs": [],
   "source": [
    "# You can use double-quotes or single-quotes\n",
    "name = \"John Smith\"\n",
    "job = 'plumber'\n",
    "\n",
    "# You can use single-quotes inside a string that's surrounded with double-quotes, and vice-versa\n",
    "do_you = \"I don't\"\n",
    "# Otherwise, you can \"escape\" the special character with a backslash\n",
    "you_sure = 'I said, \"I don\\'t!\"'\n",
    "\n",
    "# You can \"concatenate\" (stick together) strings using addition\n",
    "introduction = \"Hello, I'm \" + name + \", professional \" + job"
   ]
  },
  {
   "cell_type": "markdown",
   "id": "164ffe07-9de4-439d-a3bc-96b509a7db4d",
   "metadata": {
    "execution": {
     "iopub.execute_input": "2023-07-26T13:33:00.829880Z",
     "iopub.status.busy": "2023-07-26T13:33:00.829429Z",
     "iopub.status.idle": "2023-07-26T13:33:00.838516Z",
     "shell.execute_reply": "2023-07-26T13:33:00.837210Z",
     "shell.execute_reply.started": "2023-07-26T13:33:00.829825Z"
    },
    "tags": []
   },
   "source": [
    "What about displaying the text? Then we can use the super-handy `print()` function:"
   ]
  },
  {
   "cell_type": "code",
   "execution_count": 12,
   "id": "b2ea1d72-3145-4cca-adc8-e7dd4bdd96e6",
   "metadata": {
    "execution": {
     "iopub.execute_input": "2023-07-26T13:43:19.029193Z",
     "iopub.status.busy": "2023-07-26T13:43:19.028734Z",
     "iopub.status.idle": "2023-07-26T13:43:19.043190Z",
     "shell.execute_reply": "2023-07-26T13:43:19.042084Z",
     "shell.execute_reply.started": "2023-07-26T13:43:19.029134Z"
    },
    "tags": []
   },
   "outputs": [
    {
     "name": "stdout",
     "output_type": "stream",
     "text": [
      "John Smith\n",
      "Hello, I'm John Smith, professional plumber\n",
      "\n",
      "John Smith: plumber\n",
      "Do you?  I said, \"I don't!\"\n"
     ]
    }
   ],
   "source": [
    "print(name)\n",
    "print(introduction)\n",
    "# 'print' always ends with a new-line (although you can change that), so just running print() displays an empty line. Can break up text\n",
    "print()\n",
    "print(name + ': ' + job)\n",
    "\n",
    "# To print one thing after another (without inserting new-lines), separate them with commas:\n",
    "print(\"Do you? \", you_sure)"
   ]
  },
  {
   "cell_type": "markdown",
   "id": "6c4e73fb-0e05-437d-ba25-e1f0c5e4a7e9",
   "metadata": {},
   "source": [
    "If we want to display a number, then it first needs to be converted into its string representation. Fortunately, Python handles this for you most of the time, so you rarely need to worry about it."
   ]
  },
  {
   "cell_type": "code",
   "execution_count": 16,
   "id": "07a783a3-2d15-4d7a-99f3-4d2267bcef17",
   "metadata": {
    "execution": {
     "iopub.execute_input": "2023-07-26T13:46:41.589945Z",
     "iopub.status.busy": "2023-07-26T13:46:41.589494Z",
     "iopub.status.idle": "2023-07-26T13:46:41.609040Z",
     "shell.execute_reply": "2023-07-26T13:46:41.607737Z",
     "shell.execute_reply.started": "2023-07-26T13:46:41.589888Z"
    },
    "tags": []
   },
   "outputs": [
    {
     "name": "stdout",
     "output_type": "stream",
     "text": [
      "3\n",
      "-3\n",
      "2  +  5  =  7\n"
     ]
    },
    {
     "ename": "TypeError",
     "evalue": "unsupported operand type(s) for +: 'int' and 'str'",
     "output_type": "error",
     "traceback": [
      "\u001b[0;31m---------------------------------------------------------------------------\u001b[0m",
      "\u001b[0;31mTypeError\u001b[0m                                 Traceback (most recent call last)",
      "\u001b[0;32m<ipython-input-16-dbd306d92424>\u001b[0m in \u001b[0;36m<module>\u001b[0;34m\u001b[0m\n\u001b[1;32m      6\u001b[0m \u001b[0;31m# Trying to concatenate numbers and strings like string doesn't work\u001b[0m\u001b[0;34m\u001b[0m\u001b[0;34m\u001b[0m\u001b[0;34m\u001b[0m\u001b[0m\n\u001b[1;32m      7\u001b[0m \u001b[0;31m# This will produce an error\u001b[0m\u001b[0;34m\u001b[0m\u001b[0;34m\u001b[0m\u001b[0;34m\u001b[0m\u001b[0m\n\u001b[0;32m----> 8\u001b[0;31m \u001b[0mprint\u001b[0m\u001b[0;34m(\u001b[0m\u001b[0mnum_1\u001b[0m \u001b[0;34m+\u001b[0m \u001b[0;34m\" + \"\u001b[0m \u001b[0;34m+\u001b[0m \u001b[0mnum_2\u001b[0m \u001b[0;34m+\u001b[0m \u001b[0;34m\" = \"\u001b[0m \u001b[0;34m+\u001b[0m \u001b[0madd\u001b[0m\u001b[0;34m)\u001b[0m\u001b[0;34m\u001b[0m\u001b[0;34m\u001b[0m\u001b[0m\n\u001b[0m",
      "\u001b[0;31mTypeError\u001b[0m: unsupported operand type(s) for +: 'int' and 'str'"
     ]
    }
   ],
   "source": [
    "print(3)\n",
    "print(sub)\n",
    "\n",
    "# Comma-separating is an easy way to print numbers along with strings\n",
    "print(num_1, \" + \", num_2, \" = \", add)\n",
    "# Trying to concatenate numbers and strings like string doesn't work\n",
    "# This will produce an error\n",
    "print(num_1 + \" + \" + num_2 + \" = \" + add)"
   ]
  },
  {
   "cell_type": "markdown",
   "id": "4b35dd5c-3f0a-412a-8320-9bd4e9c31a40",
   "metadata": {},
   "source": [
    "But if you do run into a case where Python doesn't assume you want to convert your numbers into their string representations first, then you can use the `str()` function to explicitly convert something into a string:"
   ]
  },
  {
   "cell_type": "code",
   "execution_count": 17,
   "id": "b624bc00-cd48-4ee5-ae48-fc00e8d44da0",
   "metadata": {
    "execution": {
     "iopub.execute_input": "2023-07-26T13:49:07.149223Z",
     "iopub.status.busy": "2023-07-26T13:49:07.148781Z",
     "iopub.status.idle": "2023-07-26T13:49:07.156359Z",
     "shell.execute_reply": "2023-07-26T13:49:07.154411Z",
     "shell.execute_reply.started": "2023-07-26T13:49:07.149168Z"
    },
    "tags": []
   },
   "outputs": [
    {
     "name": "stdout",
     "output_type": "stream",
     "text": [
      "2 plus 5 equals 7\n"
     ]
    }
   ],
   "source": [
    "print(str(num_1) + \" plus \" + str(num_2) + \" equals \" + str(add))"
   ]
  },
  {
   "cell_type": "markdown",
   "id": "b090175d-a5d4-4b5a-9fb4-e741fc6802d0",
   "metadata": {
    "execution": {
     "iopub.execute_input": "2023-07-26T13:49:37.673256Z",
     "iopub.status.busy": "2023-07-26T13:49:37.672826Z",
     "iopub.status.idle": "2023-07-26T13:49:37.684021Z",
     "shell.execute_reply": "2023-07-26T13:49:37.682644Z",
     "shell.execute_reply.started": "2023-07-26T13:49:37.673186Z"
    },
    "tags": []
   },
   "source": [
    "Basically every data type in Python has a way to convert it into a string, and it's always accessible through the `str()` function. But like we saw with numbers, you often don't need to explicitly use `str()` to get this representation. For instance, just calling `print()` on something directly will print this string representation. This makes it easy to visually inspect your data."
   ]
  },
  {
   "cell_type": "markdown",
   "id": "172dccb2-4379-4a22-a833-9ce6cc87b58a",
   "metadata": {},
   "source": [
    "#### F-Strings"
   ]
  },
  {
   "cell_type": "markdown",
   "id": "6525242f-994b-4596-b795-f2e5ae015b0e",
   "metadata": {},
   "source": [
    "Python does have a way to more cleanly and easily combine strings with other forms of data, called *f-strings*. To mark a string as an f-string, just put an 'f' in front of it. Within an f-string, anything enclosed in curly braces gets evaluated and converted to a string. This is best shown, not told:"
   ]
  },
  {
   "cell_type": "code",
   "execution_count": 23,
   "id": "da5e7541-1cb7-41fd-a6a1-cfeaceac79be",
   "metadata": {
    "execution": {
     "iopub.execute_input": "2023-07-26T14:13:57.656887Z",
     "iopub.status.busy": "2023-07-26T14:13:57.653097Z",
     "iopub.status.idle": "2023-07-26T14:13:57.671314Z",
     "shell.execute_reply": "2023-07-26T14:13:57.670192Z",
     "shell.execute_reply.started": "2023-07-26T14:13:57.656810Z"
    },
    "tags": []
   },
   "outputs": [
    {
     "name": "stdout",
     "output_type": "stream",
     "text": [
      "Hello, John Smith!\n",
      "Hello, I'm John Smith, professional plumber. I'm 35 years old, which is 420 months. Nice to meet you!\n",
      "What's 2 + 5?\n",
      "Why, that would be 7.\n",
      "Ah, I see. So 2+5=7.\n"
     ]
    }
   ],
   "source": [
    "print(f\"Hello, {name}!\")\n",
    "age = 35\n",
    "print(f\"{introduction}. I'm {age} years old, which is {age*12} months. Nice to meet you!\")\n",
    "print(f\"What's {num_1} + {num_2}?\")\n",
    "print(f'Why, that would be {num_1 + num_2}.')\n",
    "print(f\"Ah, I see. So {num_1}+{num_2}={add}.\")"
   ]
  },
  {
   "cell_type": "markdown",
   "id": "02475153-699a-42a5-a9af-8a0110bfa801",
   "metadata": {},
   "source": [
    "It's also possible to format the string representations that the curly braces produce (e.g. aligning text, controlling the number of digits to display). You can read about that [here](https://docs.python.org/3/library/string.html#format-specification-mini-language)\n",
    "\n",
    "You can almost exclusively use f-strings over the other ways we've seen to combine strings. They are a very handy tool."
   ]
  },
  {
   "cell_type": "markdown",
   "id": "49d7f631-2aed-4a07-8212-bce297f31bb5",
   "metadata": {
    "jp-MarkdownHeadingCollapsed": true,
    "tags": []
   },
   "source": [
    "### Booleans and If Statements"
   ]
  },
  {
   "cell_type": "markdown",
   "id": "25c44c78-194c-47bf-9a21-50ab5f73c01f",
   "metadata": {},
   "source": [
    "You can represent true/false values with the *Boolean* data type, referred to as `bool`. A `bool` can have one of two values: `True` or `False`. (Note the capitalization.) You can define a Boolean variable with these values directly, or you can use the result of a *comparison operator*:"
   ]
  },
  {
   "cell_type": "code",
   "execution_count": 27,
   "id": "44fb4e6c-c221-49d0-9df6-a5553ff9b80e",
   "metadata": {
    "execution": {
     "iopub.execute_input": "2023-07-26T14:35:58.502161Z",
     "iopub.status.busy": "2023-07-26T14:35:58.501731Z",
     "iopub.status.idle": "2023-07-26T14:35:58.509211Z",
     "shell.execute_reply": "2023-07-26T14:35:58.508193Z",
     "shell.execute_reply.started": "2023-07-26T14:35:58.502109Z"
    },
    "tags": []
   },
   "outputs": [],
   "source": [
    "t = True\n",
    "f = False\n",
    "\n",
    "# Equals - This is completely different from assignment (=), and is written with 2 equal signs (==)\n",
    "eq = num_1 == num_2\n",
    "\n",
    "# Not Equal\n",
    "neq = num_1 != num_2\n",
    "\n",
    "# Greater Than\n",
    "gt = num_1 > num_2\n",
    "\n",
    "# Less Than\n",
    "lt = num_1 < num_2\n",
    "\n",
    "# Greater Than Or Equal To\n",
    "ge = num_1 >= num_2\n",
    "\n",
    "# Less Than Or Equal To\n",
    "le = num_1 <= num_2"
   ]
  },
  {
   "cell_type": "markdown",
   "id": "a2a3bac5-4372-4619-91b3-6c0e45d2d903",
   "metadata": {},
   "source": [
    "We can also manipulate Booleans using Boolean operators:\n",
    "\n",
    "(WARNING: If you come from another language, you may be used to the analogous operations being written as `&`, `|`, or something similar. These are valid operators in Python, but they are not *Boolean* operators in Python)"
   ]
  },
  {
   "cell_type": "code",
   "execution_count": 28,
   "id": "fda9d260-3717-46a0-bb84-15c0b0d18ff9",
   "metadata": {
    "execution": {
     "iopub.execute_input": "2023-07-26T14:44:27.176680Z",
     "iopub.status.busy": "2023-07-26T14:44:27.176163Z",
     "iopub.status.idle": "2023-07-26T14:44:27.182722Z",
     "shell.execute_reply": "2023-07-26T14:44:27.181440Z",
     "shell.execute_reply.started": "2023-07-26T14:44:27.176621Z"
    },
    "tags": []
   },
   "outputs": [],
   "source": [
    "a = True\n",
    "b = False\n",
    "\n",
    "# not A - gives the opposite value from A\n",
    "nota = not a\n",
    "\n",
    "# A and B - only true if both are true\n",
    "con = a and b\n",
    "\n",
    "# A or B - only false if both are false\n",
    "dis = a or b"
   ]
  },
  {
   "cell_type": "markdown",
   "id": "58c297b2-61f9-4b57-8681-fe3704fb4e6a",
   "metadata": {},
   "source": [
    "The main reason to want a true-or-false value is in order to control the flow of your program. We can use `if`-statements to do this:"
   ]
  },
  {
   "cell_type": "code",
   "execution_count": 30,
   "id": "37b77089-784f-4fea-892c-713f48cec687",
   "metadata": {
    "execution": {
     "iopub.execute_input": "2023-07-26T14:49:48.672824Z",
     "iopub.status.busy": "2023-07-26T14:49:48.672351Z",
     "iopub.status.idle": "2023-07-26T14:49:48.678706Z",
     "shell.execute_reply": "2023-07-26T14:49:48.677611Z",
     "shell.execute_reply.started": "2023-07-26T14:49:48.672765Z"
    },
    "tags": []
   },
   "outputs": [
    {
     "name": "stdout",
     "output_type": "stream",
     "text": [
      "num_1 is not equal to num_2\n"
     ]
    }
   ],
   "source": [
    "if num_1 != num_2: # <-- Note the colon at the end of the line\n",
    "    print('num_1 is not equal to num_2') # <-- Note that this line is indented"
   ]
  },
  {
   "cell_type": "markdown",
   "id": "776f3077-ce8e-4505-a7fe-ec38709a5c35",
   "metadata": {},
   "source": [
    "If we have something we only want to do when the condition is false, we can put an `else` block at the end:"
   ]
  },
  {
   "cell_type": "code",
   "execution_count": 31,
   "id": "20404706-db31-49df-8318-ae1c6adbcd71",
   "metadata": {
    "execution": {
     "iopub.execute_input": "2023-07-26T14:54:27.935520Z",
     "iopub.status.busy": "2023-07-26T14:54:27.935023Z",
     "iopub.status.idle": "2023-07-26T14:54:27.944088Z",
     "shell.execute_reply": "2023-07-26T14:54:27.942679Z",
     "shell.execute_reply.started": "2023-07-26T14:54:27.935462Z"
    }
   },
   "outputs": [
    {
     "name": "stdout",
     "output_type": "stream",
     "text": [
      "1 is not equal to 2\n"
     ]
    }
   ],
   "source": [
    "if num_1 == num_2:\n",
    "    print('num_1 is equal to num_2')\n",
    "else: # <-- Again, note the colon\n",
    "    print('num_1 is not equal to num_2')"
   ]
  },
  {
   "cell_type": "markdown",
   "id": "6ab5f86e-5932-4dd0-b5ad-e3318f0c9722",
   "metadata": {},
   "source": [
    "We can also use `elif` blocks if we want to handle more than two cases (`elif` is short for \"else-if\"). The program will enter an `elif` block if the previous conditions are all false, but the `elif` condition is true."
   ]
  },
  {
   "cell_type": "code",
   "execution_count": 7,
   "id": "7b51cd10-04e2-42e2-b5bf-bdf6dafd63bc",
   "metadata": {},
   "outputs": [
    {
     "name": "stdout",
     "output_type": "stream",
     "text": [
      "1 is less than 2\n"
     ]
    }
   ],
   "source": [
    "if num_1 > num_2:\n",
    "    print('num_1 is greater than num_2')\n",
    "elif num_1 == num_2:\n",
    "    print('num_1 is equal to num_2')\n",
    "else: # <-- Why don't we need to say elif num_1 < num_2 ?\n",
    "     print('num_1 is less than num_2')"
   ]
  },
  {
   "cell_type": "markdown",
   "id": "83953728-44e3-42ab-ad48-c6c24e9fc5d1",
   "metadata": {},
   "source": [
    "You can get more creative with elif statements. Observe."
   ]
  },
  {
   "cell_type": "code",
   "execution_count": 32,
   "id": "9aa8765c-41b2-47ee-819f-8278b6814632",
   "metadata": {
    "execution": {
     "iopub.execute_input": "2023-07-26T14:56:53.646054Z",
     "iopub.status.busy": "2023-07-26T14:56:53.645571Z",
     "iopub.status.idle": "2023-07-26T14:56:57.291756Z",
     "shell.execute_reply": "2023-07-26T14:56:57.290369Z",
     "shell.execute_reply.started": "2023-07-26T14:56:53.645995Z"
    },
    "tags": []
   },
   "outputs": [
    {
     "name": "stdin",
     "output_type": "stream",
     "text": [
      "What is your name Nobody\n"
     ]
    },
    {
     "name": "stdout",
     "output_type": "stream",
     "text": [
      "Hello Nobody\n"
     ]
    }
   ],
   "source": [
    "name = input(\"What is your name\") # <-- This will prompt you for input and store it in 'name'\n",
    "\n",
    "if name == 'Nobody':\n",
    "    print('Hello Nobody')\n",
    "elif name == 'Somebody':\n",
    "    print('Somebody is here')\n",
    "else:\n",
    "    print(f'How are you, {name}?')"
   ]
  },
  {
   "cell_type": "markdown",
   "id": "8ae2fe29-5790-4fe3-a74d-e3a74877e599",
   "metadata": {},
   "source": [
    "What if you want to check multiple conditions at the same time? Use and/or statements."
   ]
  },
  {
   "cell_type": "code",
   "execution_count": 33,
   "id": "38c47de6-3c21-4572-b367-3dabcfa45ec3",
   "metadata": {
    "execution": {
     "iopub.execute_input": "2023-07-26T15:02:54.914977Z",
     "iopub.status.busy": "2023-07-26T15:02:54.914526Z",
     "iopub.status.idle": "2023-07-26T15:02:59.752653Z",
     "shell.execute_reply": "2023-07-26T15:02:59.751476Z",
     "shell.execute_reply.started": "2023-07-26T15:02:54.914920Z"
    },
    "tags": []
   },
   "outputs": [
    {
     "name": "stdin",
     "output_type": "stream",
     "text": [
      "What is your name nobody\n"
     ]
    },
    {
     "name": "stdout",
     "output_type": "stream",
     "text": [
      "Hello Nobody\n"
     ]
    }
   ],
   "source": [
    "name = input(\"What is your name\")\n",
    "\n",
    "if name == 'Nobody' or name == 'nobody':\n",
    "    print('Hello Nobody')\n",
    "elif name == 'Somebody' and name != 'somebody':\n",
    "    print('Somebody is here')\n",
    "else:\n",
    "    print(f'How are you, {name}?')"
   ]
  },
  {
   "cell_type": "markdown",
   "id": "360a3ab2-25c5-461d-ab0e-2f0cb544d2a6",
   "metadata": {},
   "source": [
    "IMPORTANT NOTE: in `elif` statements, if two statements are both true, only the first block is run. All later statements are ignored. For example:"
   ]
  },
  {
   "cell_type": "code",
   "execution_count": 36,
   "id": "9659abb9-ad3b-4afc-ae88-ab1f5aefab2b",
   "metadata": {
    "execution": {
     "iopub.execute_input": "2023-07-26T15:10:11.919664Z",
     "iopub.status.busy": "2023-07-26T15:10:11.919170Z",
     "iopub.status.idle": "2023-07-26T15:10:11.928097Z",
     "shell.execute_reply": "2023-07-26T15:10:11.926447Z",
     "shell.execute_reply.started": "2023-07-26T15:10:11.919605Z"
    },
    "tags": []
   },
   "outputs": [
    {
     "name": "stdout",
     "output_type": "stream",
     "text": [
      "num_1 is greater than num_2\n"
     ]
    }
   ],
   "source": [
    "num_1 = 4\n",
    "num_2 = 3\n",
    "if num_1 > num_2:\n",
    "    print('num_1 is greater than num_2')\n",
    "elif num_1 == num_2:\n",
    "    print('num_1 is equal to num_2')\n",
    "elif num_1 >= num_2: # <-- This block will never be run\n",
    "    print('num_1 is greater than or equal to num_2')\n",
    "else:\n",
    "     print('num_1 is less than num_2')"
   ]
  },
  {
   "cell_type": "code",
   "execution_count": 37,
   "id": "190cf3ce-ef5a-439f-9c22-205a1709416e",
   "metadata": {
    "execution": {
     "iopub.execute_input": "2023-07-26T15:10:13.374509Z",
     "iopub.status.busy": "2023-07-26T15:10:13.374046Z",
     "iopub.status.idle": "2023-07-26T15:10:13.384154Z",
     "shell.execute_reply": "2023-07-26T15:10:13.381744Z",
     "shell.execute_reply.started": "2023-07-26T15:10:13.374451Z"
    },
    "tags": []
   },
   "outputs": [
    {
     "name": "stdout",
     "output_type": "stream",
     "text": [
      "num_1 is greater than num_2\n",
      "num_1 is greater than or equal to num_2\n"
     ]
    }
   ],
   "source": [
    "num_1 = 4\n",
    "num_2 = 3\n",
    "if num_1 > num_2:\n",
    "    print('num_1 is greater than num_2')\n",
    "if num_1 == num_2:\n",
    "    print('num_1 is equal to num_2')\n",
    "\n",
    "if num_1 >= num_2:\n",
    "    print('num_1 is greater than or equal to num_2')\n",
    "else: # <-- This else block is only tied to the last if-statement\n",
    "     print('num_1 is less than num_2')"
   ]
  },
  {
   "cell_type": "markdown",
   "id": "dd349582-5440-4e54-aaf1-9d025c46f992",
   "metadata": {},
   "source": [
    "As you can see, if you just have `if` statements, every `if` statement will be checked separately. \n",
    "\n",
    "Make sure you know how `else` statements are linked to `if` statements. Test different combinations to solidify your understanding."
   ]
  },
  {
   "cell_type": "markdown",
   "id": "db805aa7-66d0-44ae-9dbd-ddb23b3dd0b1",
   "metadata": {
    "jp-MarkdownHeadingCollapsed": true,
    "tags": []
   },
   "source": [
    "### Collections: Lists, Tuples, Dictionaries"
   ]
  },
  {
   "cell_type": "markdown",
   "id": "26f065da-9306-4c4f-acd9-0fa3df2262dc",
   "metadata": {
    "tags": []
   },
   "source": [
    "#### Lists"
   ]
  },
  {
   "cell_type": "markdown",
   "id": "14f09c85-9644-4e3f-b138-61a1df67c551",
   "metadata": {},
   "source": [
    "We can create a *list* to store an ordered collection of items. The *elements* of a list don't have to all be the same data type. You can also modify the elements of a list."
   ]
  },
  {
   "cell_type": "code",
   "execution_count": 47,
   "id": "45b212f2-c5ee-4b44-8d40-8f5a14ba0958",
   "metadata": {
    "execution": {
     "iopub.execute_input": "2023-07-26T15:39:53.212930Z",
     "iopub.status.busy": "2023-07-26T15:39:53.212453Z",
     "iopub.status.idle": "2023-07-26T15:39:53.224543Z",
     "shell.execute_reply": "2023-07-26T15:39:53.223464Z",
     "shell.execute_reply.started": "2023-07-26T15:39:53.212872Z"
    },
    "tags": []
   },
   "outputs": [
    {
     "name": "stdout",
     "output_type": "stream",
     "text": [
      "my_list: [1, 2, 3, 4]\n",
      "[5, 'hello', True, [[]], [1, 2, 3, 4]]\n",
      "my_list[0] = 1\n",
      "Last element of my_list is 4\n",
      "Second-to-last element of my_list is 3\n",
      "my_list[2] = 10\n",
      "my_list has 4 elements\n"
     ]
    }
   ],
   "source": [
    "# Explicitly create a list with square brackets\n",
    "my_list = [1,2,3,num_1]\n",
    "\n",
    "# You can have empty lists\n",
    "empty = []\n",
    "\n",
    "# Different data types\n",
    "different = [5, \"hello\", True, [empty], my_list]\n",
    "\n",
    "# You can print lists\n",
    "print(f\"my_list: {my_list}\")\n",
    "print(different)\n",
    "\n",
    "# Get the element at index i with my_list[i]. Remember lists are 0-indexed!\n",
    "print(f\"my_list[0] = {my_list[0]}\")\n",
    "\n",
    "# Negative indices count from the end of the list\n",
    "print(f\"Last element of my_list is {my_list[-1]}\")\n",
    "print(f\"Second-to-last element of my_list is {my_list[-2]}\")\n",
    "\n",
    "# Directly set the value at an index\n",
    "my_list[2] = 10\n",
    "print(f\"my_list[2] = {my_list[2]}\")\n",
    "\n",
    "# Get the length of a list with the len() function\n",
    "print(f\"my_list has {len(my_list)} elements\")"
   ]
  },
  {
   "cell_type": "markdown",
   "id": "f4e41e73-2dce-4ccc-82f6-89fc4cdc0606",
   "metadata": {},
   "source": [
    "You can \"*slice*\" a list to get a sub-list. The basic syntax is `my_list[start:stop]`, which selects the indexes between `start` (inclusive) and `stop` (exclusive). You can think of it as returning `start-stop` elements, starting at `start`. If you omit either `start` or `stop`, then your selection will extend to the start or end of the list, respectively.\n",
    "\n",
    "You can also include a step size by writing `my_list[start:stop:step]`. This selects indices in increments of size `step`"
   ]
  },
  {
   "cell_type": "code",
   "execution_count": 51,
   "id": "957bfa73-9a57-47a6-a74a-c088d06e792c",
   "metadata": {
    "execution": {
     "iopub.execute_input": "2023-07-26T15:51:33.630773Z",
     "iopub.status.busy": "2023-07-26T15:51:33.630217Z",
     "iopub.status.idle": "2023-07-26T15:51:33.646241Z",
     "shell.execute_reply": "2023-07-26T15:51:33.645016Z",
     "shell.execute_reply.started": "2023-07-26T15:51:33.630710Z"
    },
    "tags": []
   },
   "outputs": [
    {
     "name": "stdout",
     "output_type": "stream",
     "text": [
      "[1, 2]\n",
      "[2]\n",
      "[2, 4]\n",
      "[1, 2]\n",
      "[4, 8, 16]\n",
      "[1, 2, 4, 8, 16]\n",
      "[1, 2, 4]\n",
      "[1, 4]\n",
      "[1, 4, 16]\n",
      "[]\n",
      "[8, 4, 2]\n",
      "[16]\n",
      "[8, 4, 2, 1]\n",
      "[16, 8, 4, 2, 1]\n"
     ]
    }
   ],
   "source": [
    "my_list = [1,2,4,8,16]\n",
    "\n",
    "# Basic usage\n",
    "print(my_list[0:2])\n",
    "print(my_list[1:2])\n",
    "\n",
    "# Negative indices work\n",
    "print(my_list[1:-2])\n",
    "\n",
    "# Omitting start or stop\n",
    "print(my_list[:2])\n",
    "print(my_list[2:])\n",
    "print(my_list[:])\n",
    "\n",
    "# Step size\n",
    "print(my_list[0:3:1])\n",
    "print(my_list[0:3:2])\n",
    "print(my_list[::2])\n",
    "\n",
    "# Negative step sizes are allowed\n",
    "print(my_list[0:3:-1])\n",
    "print(my_list[3:0:-1])\n",
    "\n",
    "# Negative step size + omitting start/stop\n",
    "print(my_list[:3:-1])\n",
    "print(my_list[3::-1])\n",
    "print(my_list[::-1])"
   ]
  },
  {
   "cell_type": "markdown",
   "id": "78397cd3-d16a-4854-9098-6aebc7d75979",
   "metadata": {},
   "source": [
    "Something important to keep in mind about Python is that variables are only references to their data. If you assign a variable to be equal to another variable, then then they now hold references to the same data. Until now, this hasn't come into play because we've been working with *immutable* data types, like `int` and `bool`. But with lists, this can happen:"
   ]
  },
  {
   "cell_type": "code",
   "execution_count": 53,
   "id": "c503b117-8e1d-43a9-9561-52e24952da16",
   "metadata": {
    "execution": {
     "iopub.execute_input": "2023-07-26T16:00:34.721376Z",
     "iopub.status.busy": "2023-07-26T16:00:34.720865Z",
     "iopub.status.idle": "2023-07-26T16:00:34.729427Z",
     "shell.execute_reply": "2023-07-26T16:00:34.728136Z",
     "shell.execute_reply.started": "2023-07-26T16:00:34.721316Z"
    },
    "tags": []
   },
   "outputs": [
    {
     "name": "stdout",
     "output_type": "stream",
     "text": [
      "[1, 2, 3]\n",
      "[1, 2, 3]\n",
      "[1, 1000, 3]\n",
      "[1, 1000, 3]\n"
     ]
    }
   ],
   "source": [
    "a = [1,2,3]\n",
    "b = a\n",
    "print(a)\n",
    "print(b)\n",
    "b[1] = 1_000 # You can put underscores in numbers to make them more readable. This is 1,000\n",
    "print(a)\n",
    "print(b)"
   ]
  },
  {
   "cell_type": "markdown",
   "id": "cefee307-8646-470d-8778-f2fa824c5eee",
   "metadata": {},
   "source": [
    "This exact situation is uncommon, but becomes realistic with slicing. When you slice a list, you don't get a completely new list containing the specified elements. Instead, you get a new *view* of the original list. This means that modifying a slice modifies the original list:"
   ]
  },
  {
   "cell_type": "code",
   "execution_count": 58,
   "id": "a8f2f3ec-b9b6-4ec0-b7b8-6df269d5d8c0",
   "metadata": {
    "execution": {
     "iopub.execute_input": "2023-07-26T18:12:06.524134Z",
     "iopub.status.busy": "2023-07-26T18:12:06.523677Z",
     "iopub.status.idle": "2023-07-26T18:12:06.534185Z",
     "shell.execute_reply": "2023-07-26T18:12:06.532799Z",
     "shell.execute_reply.started": "2023-07-26T18:12:06.524079Z"
    },
    "tags": []
   },
   "outputs": [
    {
     "name": "stdout",
     "output_type": "stream",
     "text": [
      "[1, 2, 3, 4, 5, 6]\n",
      "[1, 2, 'a', 'b', 5, 6]\n",
      "[1, 2, 'b', 'a', 5, 6]\n",
      "[1, 2, 'a', 'b', 5, 6]\n"
     ]
    }
   ],
   "source": [
    "a = [1,2,3,4,5,6]\n",
    "print(a)\n",
    "a[2:4] = [\"a\",\"b\"]\n",
    "print(a)\n",
    "a[2:4] = a[3:1:-1]\n",
    "print(a)\n",
    "a[3:1:-1] = a[2:4]\n",
    "print(a)"
   ]
  },
  {
   "cell_type": "markdown",
   "id": "4bea1499-c0fd-44aa-8434-15ff43611cce",
   "metadata": {},
   "source": [
    "Lists present a good opportunity to introduce the concept of a \"*method*\". Although it has a special name, methods are just functions that are attached to a data type. A complete and accurate description of Python's data model would be too long, so here's the basics:\n",
    "\n",
    "**Python's Data Model**\n",
    "\n",
    "* \"*Objects* are Python’s abstraction for data. All data in a Python program is represented by objects or by relations between objects\" (from [here](https://docs.python.org/3/reference/datamodel.html#objects-values-and-types))\n",
    "\n",
    "    * Every object has a unique, unchangeable *identity*. This usually represents the memory address of the object\n",
    "    \n",
    "    * Every object has an unchangeable *type*. This signifies how the object can be used\n",
    "    \n",
    "    * Every object has a *value*. This can be changed, depending on whether the object's type is *mutable* or *immutable*\n",
    "    \n",
    "    * Objects are not just things like numbers. Functions, user-defined types, and even whole software packages are all represented by objects\n",
    "    \n",
    "* We interact with the underlying objects using *names* that are *bound* to objects - these are variables\n",
    "\n",
    "    * We say that a name *refers* to an object\n",
    "    \n",
    "    * Much of the time, the name-to-object relation is one-to-one, and we don't need to distinguish. However, it is possible for this relation to be many-to-one (i.e. for an object to have many names). We've just seen this with lists\n",
    "    \n",
    "* Part of the way a type controls how an object can be used is by determining the object's *attributes* - related objects that are accessible using a dot (i.e. `name.attribute`)\n",
    "\n",
    "    * An attribute can just store a value, like, say, a person's age\n",
    "    \n",
    "    * It is only sometimes possible to directly assign a new value to an attribute \n",
    "    \n",
    "    * An attribute can also be a function. In this case, it's called a *method*\n",
    "\n",
    "You can read more from the [Python Tutorial](https://docs.python.org/3/tutorial/classes.html#a-word-about-names-and-objects) or the [Python Language Reference](https://docs.python.org/3/reference/datamodel.html#objects-values-and-types).\n",
    "\n",
    "Lists are a mutable type, and provide the method `list.append()` to add new elements to the end of the list."
   ]
  },
  {
   "cell_type": "code",
   "execution_count": 66,
   "id": "aa8e3799-de86-412e-ad06-84ab5f812eae",
   "metadata": {
    "execution": {
     "iopub.execute_input": "2023-07-26T19:30:41.344123Z",
     "iopub.status.busy": "2023-07-26T19:30:41.343688Z",
     "iopub.status.idle": "2023-07-26T19:30:41.353516Z",
     "shell.execute_reply": "2023-07-26T19:30:41.352459Z",
     "shell.execute_reply.started": "2023-07-26T19:30:41.344071Z"
    },
    "tags": []
   },
   "outputs": [
    {
     "name": "stdout",
     "output_type": "stream",
     "text": [
      "[1, 2]\n",
      "[1, 2, 3]\n",
      "[1, 2, 3, 'a']\n",
      "[1, 2, 3, 'a', [2, 3]]\n",
      "5\n"
     ]
    }
   ],
   "source": [
    "a = [1,2]\n",
    "print(a)\n",
    "a.append(3)\n",
    "print(a)\n",
    "a.append(\"a\")\n",
    "print(a)\n",
    "a.append([2,3]) # <-- The whole list gets added as one element. Lists can contain anything, even other lists!\n",
    "print(a)\n",
    "print(len(a)) # = 5"
   ]
  },
  {
   "cell_type": "markdown",
   "id": "604e1938-757e-4fff-87fc-4cb608bb89b7",
   "metadata": {
    "jp-MarkdownHeadingCollapsed": true,
    "tags": []
   },
   "source": [
    "#### Tuples"
   ]
  },
  {
   "cell_type": "markdown",
   "id": "019fe53b-0bae-414d-869b-6965fc89c0f7",
   "metadata": {},
   "source": [
    "Like lists, *tuples* are ordered collections of items. The difference is that tuples are \"immutable\". This means that a tuple has a fixed length, and you can't replace its elements. But if an element is a mutable type, like a list, then the element's value can be modified"
   ]
  },
  {
   "cell_type": "code",
   "execution_count": 84,
   "id": "0e2f0ac0-c8ec-44f0-b321-83feec0c3a5c",
   "metadata": {
    "execution": {
     "iopub.execute_input": "2023-07-26T19:53:29.905280Z",
     "iopub.status.busy": "2023-07-26T19:53:29.904874Z",
     "iopub.status.idle": "2023-07-26T19:53:29.930809Z",
     "shell.execute_reply": "2023-07-26T19:53:29.929351Z",
     "shell.execute_reply.started": "2023-07-26T19:53:29.905218Z"
    },
    "tags": []
   },
   "outputs": [
    {
     "name": "stdout",
     "output_type": "stream",
     "text": [
      "(1, 3, 'a')\n",
      "(5, True, [3, 4])\n",
      "(1,)\n",
      "3\n",
      "[3, 4]\n",
      "('a', 3, 1)\n",
      "3\n",
      "(1, 1, 3, 'a')\n",
      "(5, True, [3, 4, (1, 3, 'a')])\n",
      "(5, True, [])\n"
     ]
    },
    {
     "ename": "TypeError",
     "evalue": "'tuple' object does not support item assignment",
     "output_type": "error",
     "traceback": [
      "\u001b[0;31m---------------------------------------------------------------------------\u001b[0m",
      "\u001b[0;31mTypeError\u001b[0m                                 Traceback (most recent call last)",
      "\u001b[0;32m<ipython-input-84-2bfcc6a1862e>\u001b[0m in \u001b[0;36m<module>\u001b[0;34m\u001b[0m\n\u001b[1;32m     26\u001b[0m \u001b[0mprint\u001b[0m\u001b[0;34m(\u001b[0m\u001b[0mb\u001b[0m\u001b[0;34m)\u001b[0m\u001b[0;34m\u001b[0m\u001b[0;34m\u001b[0m\u001b[0m\n\u001b[1;32m     27\u001b[0m \u001b[0;31m# But you can't change what the elements are - this will throw an error\u001b[0m\u001b[0;34m\u001b[0m\u001b[0;34m\u001b[0m\u001b[0;34m\u001b[0m\u001b[0m\n\u001b[0;32m---> 28\u001b[0;31m \u001b[0mb\u001b[0m\u001b[0;34m[\u001b[0m\u001b[0;36m2\u001b[0m\u001b[0;34m]\u001b[0m \u001b[0;34m=\u001b[0m \u001b[0ma\u001b[0m\u001b[0;34m\u001b[0m\u001b[0;34m\u001b[0m\u001b[0m\n\u001b[0m",
      "\u001b[0;31mTypeError\u001b[0m: 'tuple' object does not support item assignment"
     ]
    }
   ],
   "source": [
    "# How to create a tuple\n",
    "a = (1, 3, \"a\")\n",
    "print(a)\n",
    "# The commas are actually the only important part\n",
    "b = 5, True, [3,4]\n",
    "print(b)\n",
    "# The notation for a one-element tuple is pretty awkward\n",
    "c = (1,)\n",
    "print(c)\n",
    "\n",
    "# Indexing - the same as lists\n",
    "print(a[1])\n",
    "print(b[-1])\n",
    "print(a[::-1])\n",
    "\n",
    "# len() function works\n",
    "print(len(b))\n",
    "\n",
    "# Concatenation - like strings\n",
    "print(c+a)\n",
    "\n",
    "# Can still modify the values of mutable elements\n",
    "b[2].append(a)\n",
    "print(b)\n",
    "b[2][:] = []\n",
    "print(b)\n",
    "# But you can't change what the elements are - this will throw an error\n",
    "b[2] = a"
   ]
  },
  {
   "cell_type": "markdown",
   "id": "54372e6d-3d96-4b77-a9ea-2edd259782f6",
   "metadata": {},
   "source": [
    "Because tuples don't change their length, if you know what that length is then you can perform \"*tuple unpacking*\":"
   ]
  },
  {
   "cell_type": "code",
   "execution_count": 83,
   "id": "d721a910-1f8b-4a96-8700-2f6486ab33a3",
   "metadata": {
    "execution": {
     "iopub.execute_input": "2023-07-26T19:51:15.164644Z",
     "iopub.status.busy": "2023-07-26T19:51:15.164136Z",
     "iopub.status.idle": "2023-07-26T19:51:15.179114Z",
     "shell.execute_reply": "2023-07-26T19:51:15.176485Z",
     "shell.execute_reply.started": "2023-07-26T19:51:15.164587Z"
    },
    "tags": []
   },
   "outputs": [
    {
     "name": "stdout",
     "output_type": "stream",
     "text": [
      "1\n",
      "2\n",
      "a\n"
     ]
    }
   ],
   "source": [
    "a = (1,2,\"a\")\n",
    "first, second, third = a\n",
    "print(first)\n",
    "print(second)\n",
    "print(third)"
   ]
  },
  {
   "cell_type": "markdown",
   "id": "88045761-9a66-44ec-899e-23d1b461bf62",
   "metadata": {},
   "source": [
    "The tuple unpacking syntax is useful for returning multiple values from a function. Simply return them in a tuple, and call your function like `val1, val2 = my_func(...)`"
   ]
  },
  {
   "cell_type": "markdown",
   "id": "9d8c101c-94e0-45bc-b018-d95d4b3a21e8",
   "metadata": {
    "jp-MarkdownHeadingCollapsed": true,
    "tags": []
   },
   "source": [
    "#### Dictionaries"
   ]
  },
  {
   "cell_type": "markdown",
   "id": "c4423583-6e10-40a4-a53e-320374158abb",
   "metadata": {},
   "source": [
    "*Dictionaries* allow you to access the elements of your collection with *keys*. These are most commonly strings, but keys can also be numbers or tuples of valid keys, amongst other, less common options. A dictionary is often thought of as a collection of *key-value pairs*, and the type is often referred to as just `dict`, for short."
   ]
  },
  {
   "cell_type": "code",
   "execution_count": 88,
   "id": "60277909-5a3e-470e-8565-8255d482527e",
   "metadata": {
    "execution": {
     "iopub.execute_input": "2023-07-26T20:11:15.001603Z",
     "iopub.status.busy": "2023-07-26T20:11:15.001160Z",
     "iopub.status.idle": "2023-07-26T20:11:15.022189Z",
     "shell.execute_reply": "2023-07-26T20:11:15.021158Z",
     "shell.execute_reply.started": "2023-07-26T20:11:15.001549Z"
    },
    "tags": []
   },
   "outputs": [
    {
     "name": "stdout",
     "output_type": "stream",
     "text": [
      "{'key1': 34, 'key2': \"I'm a dictionary!\", 3: True, ('key3', 0): [1, 2, 3]}\n",
      "{}\n",
      "34\n",
      "True\n",
      "[1, 2, 3]\n",
      "{'hello': 'world'}\n",
      "{'key1': 34, 'key2': \"I'm a dictionary!\", 3: 'No', ('key3', 0): [1, 2, 3]}\n",
      "4\n",
      "1\n"
     ]
    }
   ],
   "source": [
    "# To make a dictionary, use curly braces and write your key:value pairs in a comma-separated list\n",
    "d = {\"key1\": 34, \"key2\": \"I'm a dictionary!\", 3: True, (\"key3\", 0):[1,2,3]}\n",
    "print(d)\n",
    "# Can have empty dictionaries\n",
    "e = {}\n",
    "print(e)\n",
    "\n",
    "# Indexing - pretty similar to lists, you just the key value instead\n",
    "print(d['key1'])\n",
    "print(d[3])\n",
    "print(d['key3',0])\n",
    "\n",
    "# Dictionaries are mutable, and you add a key by assigning a value to it\n",
    "e['hello'] = 'world'\n",
    "print(e)\n",
    "d[3] = \"No\"\n",
    "print(d)\n",
    "\n",
    "# len() tells you how many key-value pairs are in the dictionary\n",
    "print(len(d))\n",
    "print(len(e))"
   ]
  },
  {
   "cell_type": "markdown",
   "id": "9fee25c4-43a2-44cc-b7ca-185d2c63eb2c",
   "metadata": {
    "jp-MarkdownHeadingCollapsed": true,
    "tags": []
   },
   "source": [
    "### Loops"
   ]
  },
  {
   "cell_type": "markdown",
   "id": "44277a05-59a8-4be9-89f3-be56bd5cbd8b",
   "metadata": {},
   "source": [
    "[Documentation](https://docs.python.org/3/tutorial/controlflow.html#for-statements)"
   ]
  },
  {
   "cell_type": "markdown",
   "id": "1e32c277-d37b-485e-a94b-7af23b66286e",
   "metadata": {},
   "source": [
    "Now we will cover loops. The most common type of loops you'll use (by far) are `for` loops. Here's an example."
   ]
  },
  {
   "cell_type": "code",
   "execution_count": 90,
   "id": "b2c299e0-9f3b-4c38-aff3-3a7d0ec8423c",
   "metadata": {
    "execution": {
     "iopub.execute_input": "2023-07-26T20:17:02.816805Z",
     "iopub.status.busy": "2023-07-26T20:17:02.816355Z",
     "iopub.status.idle": "2023-07-26T20:17:02.828547Z",
     "shell.execute_reply": "2023-07-26T20:17:02.827408Z",
     "shell.execute_reply.started": "2023-07-26T20:17:02.816749Z"
    },
    "tags": []
   },
   "outputs": [
    {
     "name": "stdout",
     "output_type": "stream",
     "text": [
      "1\n",
      "2\n",
      "3\n"
     ]
    }
   ],
   "source": [
    "for i in [1,2,3]: # <-- Note the colon\n",
    "    print(i) # <-- Note the indentation"
   ]
  },
  {
   "cell_type": "markdown",
   "id": "d1cec857-999b-4e15-9272-76dc0353d2d3",
   "metadata": {},
   "source": [
    "A `for` loop iterates over a sequence in order, storing the current value in the loop variable. Python does have other ways to loop, like `while` loops, but they are nowhere near as clean, readable, and robust as Python's `for` loop. In this class you will be best served by `for` loops.\n",
    "\n",
    "If you want to loop over a range of numbers, you can use the built-in `range()` function. This function takes arguments `start`, `stop`, and `step`, similar to index-slicing."
   ]
  },
  {
   "cell_type": "code",
   "execution_count": 98,
   "id": "234f3e92-8c22-47af-a221-df5ad148543a",
   "metadata": {
    "execution": {
     "iopub.execute_input": "2023-07-26T20:32:20.186713Z",
     "iopub.status.busy": "2023-07-26T20:32:20.186298Z",
     "iopub.status.idle": "2023-07-26T20:32:20.201271Z",
     "shell.execute_reply": "2023-07-26T20:32:20.200274Z",
     "shell.execute_reply.started": "2023-07-26T20:32:20.186660Z"
    },
    "tags": []
   },
   "outputs": [
    {
     "name": "stdout",
     "output_type": "stream",
     "text": [
      "0 1 2 3 4 \n",
      "-3 -2 -1 0 1 2 3 \n",
      "3 5 7 9 11 \n",
      "13 10 7 4 \n"
     ]
    }
   ],
   "source": [
    "# range(n) goes from 0 up to (but not including) n\n",
    "for i in range(5): # This is the most common form of range\n",
    "    print(i, end=' ')\n",
    "print()\n",
    "\n",
    "# range(a,b) goes from a up to (but not including) b\n",
    "for i in range(-3, 4):\n",
    "    print(i, end=' ')\n",
    "print()\n",
    "\n",
    "# The 3rd number defines the step\n",
    "for i in range(3, 12, 2):\n",
    "    print(i, end=' ')\n",
    "print()\n",
    "\n",
    "for i in range(13, 1, -3):\n",
    "    print(i, end=' ')\n",
    "print()"
   ]
  },
  {
   "cell_type": "markdown",
   "id": "0d40a2a8-0f44-4498-9ec0-41296581378f",
   "metadata": {},
   "source": [
    "Quick side-note: `range()` does not actually produce a list. In order to use a `for` loop to iterate over something, it only needs to be an *iterable* type. This is just an abstraction, though, and you can construct a list out of an iterable by doing, for instance, `list(range(5))`"
   ]
  },
  {
   "cell_type": "markdown",
   "id": "b70b49f0-022b-49ac-be87-79735f235abb",
   "metadata": {},
   "source": [
    "You can keep track of element position while looping over a list by using `range()` or the built-in function `enumerate()`:"
   ]
  },
  {
   "cell_type": "code",
   "execution_count": 99,
   "id": "ae2cdba7-68bd-479b-b438-5c0008cfd0e2",
   "metadata": {
    "execution": {
     "iopub.execute_input": "2023-07-26T20:43:55.152475Z",
     "iopub.status.busy": "2023-07-26T20:43:55.152007Z",
     "iopub.status.idle": "2023-07-26T20:43:55.163017Z",
     "shell.execute_reply": "2023-07-26T20:43:55.161988Z",
     "shell.execute_reply.started": "2023-07-26T20:43:55.152418Z"
    }
   },
   "outputs": [
    {
     "name": "stdout",
     "output_type": "stream",
     "text": [
      "Using range:\n",
      "my_list[0] : 1\n",
      "my_list[1] : 2\n",
      "my_list[2] : 3\n",
      "my_list[3] : 4\n",
      "Using enumerate:\n",
      "Item 0 is 1\n",
      "Item 1 is 2\n",
      "Item 2 is 3\n",
      "Item 3 is 4\n"
     ]
    }
   ],
   "source": [
    "my_list = [1,2,3,4]\n",
    "print(\"Using range:\")\n",
    "for i in range(len(my_list)):\n",
    "    print(f\"my_list[{i}] : {my_list[i]}\")\n",
    "\n",
    "print(\"Using enumerate:\")\n",
    "for idx, item in enumerate(my_list): # <-- Notice the tuple unpacking\n",
    "    print(f\"Item {idx} is {item}\")"
   ]
  },
  {
   "cell_type": "markdown",
   "id": "ece5a0d3-901b-4975-99ea-2f2790e3d8c1",
   "metadata": {},
   "source": [
    "Looping over a tuple is the same as looping over a list.\n",
    "\n",
    "When it comes to dictionaries, there are a few options: (Side-note: the key-value pairs in a dictionary are not guaranteed to be maintained in any particular order)"
   ]
  },
  {
   "cell_type": "code",
   "execution_count": 100,
   "id": "8cee08bf-ac28-4474-a0e7-67826d24839c",
   "metadata": {
    "execution": {
     "iopub.execute_input": "2023-07-26T20:54:17.402726Z",
     "iopub.status.busy": "2023-07-26T20:54:17.402227Z",
     "iopub.status.idle": "2023-07-26T20:54:17.423960Z",
     "shell.execute_reply": "2023-07-26T20:54:17.422798Z",
     "shell.execute_reply.started": "2023-07-26T20:54:17.402668Z"
    },
    "tags": []
   },
   "outputs": [
    {
     "name": "stdout",
     "output_type": "stream",
     "text": [
      "for i in my_dict:\n",
      "my_dict[key1] : 1\n",
      "my_dict[key2] : 2\n",
      "my_dict[key3] : 3\n",
      "\n",
      "for key in my_dict.keys():\n",
      "my_dict[key1] : 1\n",
      "my_dict[key2] : 2\n",
      "my_dict[key3] : 3\n",
      "\n",
      "for i in my_dict.values():\n",
      "Next value: 1\n",
      "Next value: 2\n",
      "Next value: 3\n",
      "\n",
      "for key, val in my_dict.items():\n",
      "my_dict[key1] : 1\n",
      "my_dict[key2] : 2\n",
      "my_dict[key3] : 3\n"
     ]
    }
   ],
   "source": [
    "my_dict = {\"key1\":1, \"key2\":2, \"key3\":3}\n",
    "\n",
    "# Just looping over it plain gives the keys\n",
    "print(\"for i in my_dict:\")\n",
    "for i in my_dict:\n",
    "    print(f\"my_dict[{i}] : {my_dict[i]}\")\n",
    "print()\n",
    "# Use the dict.keys() method to explicitly get the keys\n",
    "print(\"for key in my_dict.keys():\")\n",
    "for key in my_dict.keys():\n",
    "    print(f\"my_dict[{key}] : {my_dict[key]}\")\n",
    "print()\n",
    "# If you don't want the keys, only the values, use the dict.values() method\n",
    "print(\"for i in my_dict.values():\")\n",
    "for i in my_dict.values():\n",
    "    print(f\"Next value: {i}\")\n",
    "print()\n",
    "# Use the dict.items() method to get (key, value) tuples, like enumerate(list)\n",
    "print(\"for key, val in my_dict.items():\")\n",
    "for key, val in my_dict.items():\n",
    "    print(f\"my_dict[{key}] : {val}\")"
   ]
  },
  {
   "cell_type": "markdown",
   "id": "7decea98-f243-4bff-978a-8f7d5696d7de",
   "metadata": {},
   "source": [
    "Let's say we want to break out of the loop early, for whatever reason. We can do that with the `break` keyword:"
   ]
  },
  {
   "cell_type": "code",
   "execution_count": 103,
   "id": "38eb3efc-cd52-4804-9e81-9b92ab77e4ee",
   "metadata": {
    "execution": {
     "iopub.execute_input": "2023-07-26T21:03:04.855352Z",
     "iopub.status.busy": "2023-07-26T21:03:04.854857Z",
     "iopub.status.idle": "2023-07-26T21:03:04.863306Z",
     "shell.execute_reply": "2023-07-26T21:03:04.862121Z",
     "shell.execute_reply.started": "2023-07-26T21:03:04.855294Z"
    },
    "tags": []
   },
   "outputs": [
    {
     "name": "stdout",
     "output_type": "stream",
     "text": [
      "0\n",
      "1\n",
      "2\n",
      "3\n",
      "4\n",
      "5\n",
      "6\n",
      "All done!\n"
     ]
    }
   ],
   "source": [
    "for i in range(10):\n",
    "    if i == 7:\n",
    "        break # <-- If we hit this, we end the loop early and continue in the program\n",
    "    print(i)\n",
    "\n",
    "print(\"All done!\")"
   ]
  },
  {
   "cell_type": "markdown",
   "id": "fbff2798-c49b-4d4c-ac1f-a9c5c2b9d3de",
   "metadata": {},
   "source": [
    "Great. Now our loop ends at 6. But what if we just want to *skip* a number instead of ending entirely? Then we would use `continue`:"
   ]
  },
  {
   "cell_type": "code",
   "execution_count": 104,
   "id": "7e39d809-1ad5-44b2-9c02-d6bdc026d378",
   "metadata": {
    "execution": {
     "iopub.execute_input": "2023-07-26T21:04:49.989495Z",
     "iopub.status.busy": "2023-07-26T21:04:49.988995Z",
     "iopub.status.idle": "2023-07-26T21:04:49.999071Z",
     "shell.execute_reply": "2023-07-26T21:04:49.997927Z",
     "shell.execute_reply.started": "2023-07-26T21:04:49.989437Z"
    }
   },
   "outputs": [
    {
     "name": "stdout",
     "output_type": "stream",
     "text": [
      "0\n",
      "1\n",
      "2\n",
      "3\n",
      "4\n",
      "5\n",
      "6\n",
      "8\n",
      "9\n",
      "All done!\n"
     ]
    }
   ],
   "source": [
    "for i in range(10):\n",
    "    if i == 7:\n",
    "        continue # <-- If we hit this, we end the current loop and move on to the next value of i\n",
    "    print(i)\n",
    "\n",
    "print(\"All done!\")"
   ]
  },
  {
   "cell_type": "markdown",
   "id": "63df4410-eebc-40cf-90c3-30cd30489e46",
   "metadata": {
    "jp-MarkdownHeadingCollapsed": true,
    "tags": []
   },
   "source": [
    "### Odds and Ends"
   ]
  },
  {
   "cell_type": "markdown",
   "id": "a548468d-0ec3-4017-8404-70a2bfefeda1",
   "metadata": {
    "jp-MarkdownHeadingCollapsed": true,
    "tags": []
   },
   "source": [
    "#### Copies and `is`"
   ]
  },
  {
   "cell_type": "markdown",
   "id": "0850dad1-e830-4a75-98c6-fa47db5cceb5",
   "metadata": {},
   "source": [
    "Recall that when assigning a list to a variable, the variable refers to that very same list. If you want to have a completely new copy of a list, you can use the `list.copy()` method:"
   ]
  },
  {
   "cell_type": "code",
   "execution_count": 105,
   "id": "f17d2d68-030f-4ead-ae78-898959434e1f",
   "metadata": {
    "execution": {
     "iopub.execute_input": "2023-07-26T21:07:45.908833Z",
     "iopub.status.busy": "2023-07-26T21:07:45.908393Z",
     "iopub.status.idle": "2023-07-26T21:07:45.920757Z",
     "shell.execute_reply": "2023-07-26T21:07:45.919449Z",
     "shell.execute_reply.started": "2023-07-26T21:07:45.908781Z"
    },
    "tags": []
   },
   "outputs": [
    {
     "name": "stdout",
     "output_type": "stream",
     "text": [
      "[1, 2]\n",
      "[1, 2, 3]\n"
     ]
    }
   ],
   "source": [
    "a = [1,2]\n",
    "b = a.copy()\n",
    "b.append(3)\n",
    "print(a)\n",
    "print(b)"
   ]
  },
  {
   "cell_type": "markdown",
   "id": "b17b23ac-3639-4588-9a98-f7b11fa385f6",
   "metadata": {},
   "source": [
    "Note that this is only a *shallow copy*. They may still refer to the same objects as their elements. \n",
    "\n",
    "You can check whether two names refer to the same object using the *identity operator* `is`. This returns a Boolean indicating whether the two inputs refer to the same object in memory. This is distinct from the `==` operator, which checks if the two inputs have equal values."
   ]
  },
  {
   "cell_type": "code",
   "execution_count": 113,
   "id": "36d904cd-a51b-443b-a63f-28da3e12a18c",
   "metadata": {
    "execution": {
     "iopub.execute_input": "2023-07-26T21:22:07.642385Z",
     "iopub.status.busy": "2023-07-26T21:22:07.641957Z",
     "iopub.status.idle": "2023-07-26T21:22:07.661138Z",
     "shell.execute_reply": "2023-07-26T21:22:07.659633Z",
     "shell.execute_reply.started": "2023-07-26T21:22:07.642333Z"
    },
    "tags": []
   },
   "outputs": [
    {
     "name": "stdout",
     "output_type": "stream",
     "text": [
      "a is b:  True\n",
      "a == b:  True\n",
      "a is b:  False\n",
      "a == b:  True\n",
      "a[1] is b:  True\n",
      "a[1] == b:  True\n",
      "a is b:  False\n",
      "a[1] is b[1]:  True\n",
      "a == b:  True\n"
     ]
    }
   ],
   "source": [
    "a = 2\n",
    "b = 2\n",
    "print(\"a is b: \", a is b) # Sometimes literal numbers refer to the same object\n",
    "print(\"a == b: \", a==b)\n",
    "\n",
    "a = []\n",
    "b = []\n",
    "print(\"a is b: \", a is b)\n",
    "print(\"a == b: \", a==b)\n",
    "\n",
    "a = ((1,2), (3,4))\n",
    "b = a[1]\n",
    "print(\"a[1] is b: \", a[1] is b)\n",
    "print(\"a[1] == b: \", a[1]==b)\n",
    "\n",
    "a = [\"A\", \"B\"]\n",
    "b = a.copy()\n",
    "print(\"a is b: \", a is b)\n",
    "print(\"a[1] is b[1]: \", a[1] is b[1])\n",
    "print(\"a == b: \", a==b)"
   ]
  },
  {
   "cell_type": "markdown",
   "id": "35d7b13e-f2e4-492a-87e5-26d98b8605c5",
   "metadata": {},
   "source": [
    "You will only need the `is` operator when dealing with the `None` type, discussed next"
   ]
  },
  {
   "cell_type": "markdown",
   "id": "1e1b0dfe-2cf5-4be9-b722-e74631859eb2",
   "metadata": {
    "jp-MarkdownHeadingCollapsed": true,
    "tags": []
   },
   "source": [
    "#### The `None` Type"
   ]
  },
  {
   "cell_type": "markdown",
   "id": "8423051a-7ba6-45b2-bb31-1656aeab058d",
   "metadata": {},
   "source": [
    "Sometimes, we want to be able to represent a variable not having a value assigned to it. The way Python does this is with a built-in fundamental type, the `NoneType`. Something has the `NoneType` if it is equal to `None`. This gives us a way to represent something \"uninitialized,\" or to signify that a value has been omitted.\n",
    "\n",
    "Really the only thing to do with a value of `None` is to check whether a variable is `None` or not. Your first instinct would be to check using the `==` operator, like so:"
   ]
  },
  {
   "cell_type": "code",
   "execution_count": 116,
   "id": "3c9c0965-1cc5-478e-9dc2-da4e788815b7",
   "metadata": {
    "execution": {
     "iopub.execute_input": "2023-07-28T15:21:43.729349Z",
     "iopub.status.busy": "2023-07-28T15:21:43.728495Z",
     "iopub.status.idle": "2023-07-28T15:21:43.740921Z",
     "shell.execute_reply": "2023-07-28T15:21:43.739300Z",
     "shell.execute_reply.started": "2023-07-28T15:21:43.729286Z"
    },
    "tags": []
   },
   "outputs": [
    {
     "name": "stdout",
     "output_type": "stream",
     "text": [
      "True\n",
      "False\n"
     ]
    }
   ],
   "source": [
    "a = None\n",
    "b = 2\n",
    "print(a == None)\n",
    "print(b == None)"
   ]
  },
  {
   "cell_type": "markdown",
   "id": "ce8eafea-f813-49cd-8e4a-a2a92ddcf6f4",
   "metadata": {},
   "source": [
    "However, it's generally advised to check using `is None`, instead. You can read more on [this StackOverflow post](https://stackoverflow.com/questions/3257919/what-is-the-difference-between-is-none-and-none), but it comes down to the fact that Python needs to allow user-defined types to specify how the `==` operator works on them. We will actually be using user-defined types that do this, so it's important that you follow this advice."
   ]
  },
  {
   "cell_type": "code",
   "execution_count": 118,
   "id": "82d0ffaf-eadf-461d-9ed5-fbce7aec2883",
   "metadata": {
    "execution": {
     "iopub.execute_input": "2023-07-28T15:34:14.013366Z",
     "iopub.status.busy": "2023-07-28T15:34:14.012903Z",
     "iopub.status.idle": "2023-07-28T15:34:14.024631Z",
     "shell.execute_reply": "2023-07-28T15:34:14.023439Z",
     "shell.execute_reply.started": "2023-07-28T15:34:14.013309Z"
    },
    "tags": []
   },
   "outputs": [
    {
     "name": "stdout",
     "output_type": "stream",
     "text": [
      "I did the right thing\n",
      "I did the wrong thing\n",
      "I mean something\n"
     ]
    }
   ],
   "source": [
    "a = None\n",
    "b = 2\n",
    "if a is None: # <-- Do this!\n",
    "    print(\"I did the right thing\")\n",
    "if a == None: # <-- Not this!\n",
    "    print(\"I did the wrong thing\")\n",
    "if not b is None: # <-- Keep in mind that this how you check for *not* being None. Unfortunately, \"b is not None\" doesn't work\n",
    "    print(\"I mean something\")"
   ]
  },
  {
   "cell_type": "markdown",
   "id": "7edf2665-882e-4d68-9660-c4f928bd11a6",
   "metadata": {
    "jp-MarkdownHeadingCollapsed": true,
    "tags": []
   },
   "source": [
    "#### The `in` Operator"
   ]
  },
  {
   "cell_type": "markdown",
   "id": "777c68f0-8c07-4876-a639-78fe62390251",
   "metadata": {},
   "source": [
    "For collection types like lists and tuples, sometimes we want to check if a certain element is in our collection. These collection types provide a built-in operator for this purpose - the `in` operator. Let's check it out."
   ]
  },
  {
   "cell_type": "code",
   "execution_count": 142,
   "id": "b7befe00-1fed-4b59-9e93-152277b2732b",
   "metadata": {
    "execution": {
     "iopub.execute_input": "2023-07-28T16:34:03.379544Z",
     "iopub.status.busy": "2023-07-28T16:34:03.379072Z",
     "iopub.status.idle": "2023-07-28T16:34:03.400513Z",
     "shell.execute_reply": "2023-07-28T16:34:03.399510Z",
     "shell.execute_reply.started": "2023-07-28T16:34:03.379487Z"
    },
    "tags": []
   },
   "outputs": [
    {
     "name": "stdout",
     "output_type": "stream",
     "text": [
      "2 is in a\n",
      "('b', True) is in b\n",
      "2 is not in b\n",
      "1\n",
      "3\n",
      "5\n"
     ]
    }
   ],
   "source": [
    "a = [1,2,3,[\"a\",False]]\n",
    "b = (4,5,6,(\"b\",True))\n",
    "# Basic use case\n",
    "if 2 in a:\n",
    "    print(\"2 is in a\")\n",
    "if 2 in b:\n",
    "    print(\"2 is in b\")\n",
    "\n",
    "# Does not unpack lists or tuples\n",
    "if [2,3] in a:\n",
    "    print(\"[2,3] is in a\")\n",
    "if (\"b\",True) in b:\n",
    "    print(\"('b', True) is in b\")\n",
    "\n",
    "# To test for non-containment, you can use 'not in'\n",
    "if 2 not in a:\n",
    "    print(\"2 is not in a\")\n",
    "if 2 not in b:\n",
    "    print(\"2 is not in b\")\n",
    "\n",
    "# For dictionaries, checks if it is a key\n",
    "a = {1:2, 3:4, 5:6}\n",
    "for i in range(1,7):\n",
    "    if i in a:\n",
    "        print(i)"
   ]
  },
  {
   "cell_type": "markdown",
   "id": "dc5d1590-e384-43fb-b97c-dbde452159fb",
   "metadata": {
    "jp-MarkdownHeadingCollapsed": true,
    "tags": []
   },
   "source": [
    "#### More on Strings"
   ]
  },
  {
   "cell_type": "markdown",
   "id": "be85cc5c-1083-4f99-b4f4-50968cbe7d70",
   "metadata": {},
   "source": [
    "Although we introduced strings at the same time as numbers and Booleans, strings do have a lot more going on. For instance, strings have a whole host of methods to make them easier to work with. See the full list [here](https://docs.python.org/3/library/stdtypes.html#string-methods). At the time, we also made it seem like strings are these indivisible units of data. But in fact, Python strings are actually an example of a *sequence type*, like lists and tuples! Between the two, they're more similar to tuples, since strings are also immutable.\n",
    "\n",
    "What is a string a sequence *of*? As you might expect, strings are sequences of characters (Unicode, to be exact). In the Python language, these individual characters are accessible, but they are wrapped up as strings of their own, so there is no \"character type\". This is generally to your benefit, though, since it means individual characters don't get treated differently from one-character-long strings. Let's show some examples."
   ]
  },
  {
   "cell_type": "code",
   "execution_count": 126,
   "id": "aecaf35a-e763-4e1b-9f23-4b617b0d53ff",
   "metadata": {
    "execution": {
     "iopub.execute_input": "2023-07-28T16:13:37.497380Z",
     "iopub.status.busy": "2023-07-28T16:13:37.496911Z",
     "iopub.status.idle": "2023-07-28T16:13:37.526745Z",
     "shell.execute_reply": "2023-07-28T16:13:37.525730Z",
     "shell.execute_reply.started": "2023-07-28T16:13:37.497323Z"
    },
    "tags": []
   },
   "outputs": [
    {
     "name": "stdout",
     "output_type": "stream",
     "text": [
      "'Hello' ends with an 'o'\n",
      "'o' is the 4-th letter in 'Hello'\n",
      "'o' is the 1-th letter in 'World'\n",
      "2\n",
      "hello\n",
      "world\n",
      "HELLO\n",
      "WORLD\n",
      "['Hell', '']\n",
      "['W', 'rld']\n",
      "Hello, World\n",
      "H\n",
      "d\n",
      "e\n",
      "dlroW\n",
      "True\n",
      "True\n",
      "True\n",
      "False\n",
      "True\n"
     ]
    }
   ],
   "source": [
    "a = \"Hello\"\n",
    "b = \"World\"\n",
    "\n",
    "# Some string methods\n",
    "for i in [a,b]:\n",
    "    if i.endswith(\"o\"):\n",
    "        print(f\"'{i}' ends with an 'o'\")\n",
    "\n",
    "for i in [a,b]:\n",
    "    print(f\"'o' is the {i.find('o')}-th letter in '{i}'\")\n",
    "\n",
    "for i in [a,b, \"2\"]:\n",
    "    if i.isdecimal():\n",
    "        print(i)\n",
    "\n",
    "for i in [a,b]:\n",
    "    print(i.lower())\n",
    "\n",
    "for i in [a,b]:\n",
    "    print(i.upper())\n",
    "\n",
    "for i in [a,b]:\n",
    "    print(i.split('o'))\n",
    "\n",
    "print(', '.join([a,b]))\n",
    "\n",
    "# Strings as sequences\n",
    "# Indexing and slicing works\n",
    "print(a[0])\n",
    "print(b[-1])\n",
    "print(a[1:2])\n",
    "print(b[::-1])\n",
    "# You can use the 'in' operator\n",
    "print('o' in a)\n",
    "print('o' in b)\n",
    "# The 'in' operator for strings actually checks for whole *substrings*, not just individual characters!\n",
    "print('ll' in a)\n",
    "print('ll' in b)\n",
    "# And 'not in' still works, too\n",
    "print('ll' not in b)"
   ]
  },
  {
   "cell_type": "markdown",
   "id": "eb21552f-6a5c-492e-8a81-db5743895431",
   "metadata": {
    "jp-MarkdownHeadingCollapsed": true,
    "tags": []
   },
   "source": [
    "#### Type Conversions and Truthiness"
   ]
  },
  {
   "cell_type": "markdown",
   "id": "70275243-bdc8-417b-83f0-1fea311757a9",
   "metadata": {},
   "source": [
    "Earlier, we saw the `str()` function be used to convert a number into a string. We also saw the `list()` function be used to convert an iterable (in that case, a range) into a list. In general, the name of a type also acts as a function that can be used to create an instance of that type. Let's see some other examples:"
   ]
  },
  {
   "cell_type": "code",
   "execution_count": 140,
   "id": "99d41f47-96ed-4301-bc47-1726db39c7d6",
   "metadata": {
    "execution": {
     "iopub.execute_input": "2023-07-28T16:29:47.412268Z",
     "iopub.status.busy": "2023-07-28T16:29:47.411796Z",
     "iopub.status.idle": "2023-07-28T16:29:47.434347Z",
     "shell.execute_reply": "2023-07-28T16:29:47.433338Z",
     "shell.execute_reply.started": "2023-07-28T16:29:47.412197Z"
    },
    "tags": []
   },
   "outputs": [
    {
     "name": "stdout",
     "output_type": "stream",
     "text": [
      "13\n",
      "121\n",
      "12\n",
      "1\n",
      "0\n",
      "10\n",
      "12.1\n",
      "-5.6\n",
      "-5.6555\n"
     ]
    }
   ],
   "source": [
    "# The int() function can convert strings to whole numbers\n",
    "a = \"12\"\n",
    "b = \"1\"\n",
    "print(int(a) + int(b)) \n",
    "print(int(a + b))\n",
    "# This will throw an error if you try something like int(\"b12\")\n",
    "\n",
    "# The int() function also rounds its input to be a whole number\n",
    "# It rounds towards zero, just removing the fractional part\n",
    "a = 12.1\n",
    "b = 1.7\n",
    "c = -0.6\n",
    "d = 10.0\n",
    "print(int(a))\n",
    "print(int(b))\n",
    "print(int(c))\n",
    "print(int(d))\n",
    "# Converting from strings will not attempt round. This will just throw an error:\n",
    "# a = \"12.1\"\n",
    "# print(int(a))\n",
    "\n",
    "# The float() function can convert strings to any real number, not just whole numbers\n",
    "a = \"12.1\"\n",
    "b = \"-5.6\"\n",
    "print(float(a))\n",
    "print(float(b))\n",
    "print(float(b + \"555\"))"
   ]
  },
  {
   "cell_type": "code",
   "execution_count": 152,
   "id": "8cf76d3a-832f-4614-80f3-d12b9f8d14af",
   "metadata": {
    "execution": {
     "iopub.execute_input": "2023-07-28T16:42:06.971105Z",
     "iopub.status.busy": "2023-07-28T16:42:06.970655Z",
     "iopub.status.idle": "2023-07-28T16:42:06.995457Z",
     "shell.execute_reply": "2023-07-28T16:42:06.994381Z",
     "shell.execute_reply.started": "2023-07-28T16:42:06.971049Z"
    },
    "tags": []
   },
   "outputs": [
    {
     "name": "stdout",
     "output_type": "stream",
     "text": [
      "(0, 1, 2, 3, 4, 5, 6, 7, 8, 9)\n",
      "[1, 3, 5]\n",
      "(1, 3, 5)\n",
      "(1, 2, 3)\n",
      "[1, 2, 3]\n",
      "False\n",
      "True\n",
      "{1: 2, 3: 4, 5: 6}\n",
      "{1: 3, 2: 4, 3: 6}\n",
      "{'one': 1, 'two': 2, 'three': 3}\n"
     ]
    }
   ],
   "source": [
    "# There is also a tuple() function, similar to list()\n",
    "print(tuple(range(10)))\n",
    "# list() and tuple() applied to a dictionary retrieve the keys\n",
    "d = {1:2, 3:4, 5:6}\n",
    "print(list(d))\n",
    "print(tuple(d))\n",
    "# And you can turn a list into a tuple, or vice-versa\n",
    "a = [1,2,3]\n",
    "print(tuple(a))\n",
    "b = tuple(a)\n",
    "print(list(b))\n",
    "# These functions do return new objects:\n",
    "print(list(b) is a)\n",
    "print(list(b) == a)\n",
    "\n",
    "# We can also use the dict() function to create dictionaries\n",
    "# We can pass a dictionary:\n",
    "print(dict(d))\n",
    "# Or a list/iterable of tuples, specifying key-value pairs\n",
    "a = dict([(1,3),(2,4),(3,6)])\n",
    "print(a)\n",
    "# You can also pass \"keyword arguments\"-more on those later\n",
    "print(dict(one=1, two=2, three=3))"
   ]
  },
  {
   "cell_type": "markdown",
   "id": "a2f5c584-54fc-41c7-9e94-8ff2fca455be",
   "metadata": {},
   "source": [
    "You may notice that one type is missing: Booleans! This is because Boolean type conversions are so ubiquitous that they've spawned their own terms: \"*truthiness*\" and \"*falsiness*\". The idea is that some values naturally seem to represent \"false\". Here are the culprits:"
   ]
  },
  {
   "cell_type": "code",
   "execution_count": 159,
   "id": "e9dd6d80-688e-433f-8b99-04f1cbaa41b5",
   "metadata": {
    "execution": {
     "iopub.execute_input": "2023-07-28T17:03:17.128384Z",
     "iopub.status.busy": "2023-07-28T17:03:17.127991Z",
     "iopub.status.idle": "2023-07-28T17:03:17.136243Z",
     "shell.execute_reply": "2023-07-28T17:03:17.134545Z",
     "shell.execute_reply.started": "2023-07-28T17:03:17.128332Z"
    },
    "tags": []
   },
   "outputs": [
    {
     "name": "stdout",
     "output_type": "stream",
     "text": [
      "False\n",
      "False\n",
      "False\n",
      "False\n",
      "False\n",
      "False\n",
      "False\n"
     ]
    }
   ],
   "source": [
    "falsy = [0, # Any number equal to zero\n",
    "         '', # Empty strings\n",
    "         [], # Empty lists\n",
    "         (), # Empty tuples\n",
    "         {}, # Empty dictionaries\n",
    "         None, # None\n",
    "         False] # And, of course, False\n",
    "for i in falsy:\n",
    "    print(bool(i))"
   ]
  },
  {
   "cell_type": "markdown",
   "id": "affd7444-5787-4aff-a266-9d342ce98121",
   "metadata": {},
   "source": [
    "What counts as \"truthy\"? Well, any built-in type that doesn't have a value equal one of these:"
   ]
  },
  {
   "cell_type": "code",
   "execution_count": 162,
   "id": "aef1dd7d-7eb2-428c-9c8e-1b40c875836a",
   "metadata": {
    "execution": {
     "iopub.execute_input": "2023-07-28T17:07:38.406572Z",
     "iopub.status.busy": "2023-07-28T17:07:38.406130Z",
     "iopub.status.idle": "2023-07-28T17:07:38.424405Z",
     "shell.execute_reply": "2023-07-28T17:07:38.423421Z",
     "shell.execute_reply.started": "2023-07-28T17:07:38.406519Z"
    },
    "tags": []
   },
   "outputs": [
    {
     "name": "stdout",
     "output_type": "stream",
     "text": [
      "True\n",
      "True\n",
      "True\n",
      "True\n",
      "True\n",
      "True\n",
      "True\n",
      "True\n",
      "True\n",
      "True\n",
      "True\n",
      "True\n"
     ]
    }
   ],
   "source": [
    "truthy = [23.4,\n",
    "           -1,\n",
    "          'ab',\n",
    "          'False',\n",
    "          [1,2],\n",
    "          [False],\n",
    "          [[]],\n",
    "          (1,2),\n",
    "          (False,),\n",
    "          {1:2},\n",
    "          {():None},\n",
    "          True]\n",
    "\n",
    "for i in truthy:\n",
    "    print(bool(i))"
   ]
  },
  {
   "cell_type": "markdown",
   "id": "696439a3-375f-47a5-afa7-762391bed875",
   "metadata": {},
   "source": [
    "Moreover, just like printing automatically converts the inputs to strings, any time you try to interpret a value as a Boolean it will be converted based on its truthiness.\n",
    "\n",
    "What does this mean for you? It gives you a way to check for \"empty\" values with a simple if-statement:"
   ]
  },
  {
   "cell_type": "code",
   "execution_count": 164,
   "id": "3b063c53-5d25-44be-8816-40a3ee9e3362",
   "metadata": {
    "execution": {
     "iopub.execute_input": "2023-07-28T17:14:40.119637Z",
     "iopub.status.busy": "2023-07-28T17:14:40.119167Z",
     "iopub.status.idle": "2023-07-28T17:14:40.139738Z",
     "shell.execute_reply": "2023-07-28T17:14:40.138725Z",
     "shell.execute_reply.started": "2023-07-28T17:14:40.119581Z"
    },
    "tags": []
   },
   "outputs": [
    {
     "name": "stdout",
     "output_type": "stream",
     "text": [
      "This is empty\n",
      "We have something to work with here\n",
      "We're missing something here\n",
      "We're still missing something here\n",
      "Put something in a\n"
     ]
    }
   ],
   "source": [
    "a = []\n",
    "if a:\n",
    "    print(\"We have something to work with here\")\n",
    "else:\n",
    "    print(\"This is empty\")\n",
    "\n",
    "a = [1,2,3]\n",
    "if a:\n",
    "    print(\"We have something to work with here\")\n",
    "else:\n",
    "    print(\"This is empty\")\n",
    "\n",
    "a = []\n",
    "b = ''\n",
    "if not a or not b:\n",
    "    print(\"We're missing something here\")\n",
    "\n",
    "a = []\n",
    "b = 'hello'\n",
    "if not a or not b: # Boolean operators evaluate the inputs' truthiness\n",
    "    print(\"We're still missing something here\")\n",
    "if not a:\n",
    "    print(\"Put something in a\")\n",
    "if not b:\n",
    "    print(\"Put something in b\")"
   ]
  },
  {
   "cell_type": "markdown",
   "id": "7ff897f3-2b20-460e-a3b9-a2e000dda5e9",
   "metadata": {
    "jp-MarkdownHeadingCollapsed": true,
    "tags": []
   },
   "source": [
    "#### List and Dict Comprehensions"
   ]
  },
  {
   "cell_type": "markdown",
   "id": "7c6a21b6-8029-4e67-8817-0b530a1b4ad6",
   "metadata": {},
   "source": [
    "Sometimes, you want to be able to create a list or dictionary based on a simple rule. For example:"
   ]
  },
  {
   "cell_type": "code",
   "execution_count": 165,
   "id": "f51c62e1-c4d1-4605-93f9-4d8f47352482",
   "metadata": {
    "execution": {
     "iopub.execute_input": "2023-07-28T17:19:29.061384Z",
     "iopub.status.busy": "2023-07-28T17:19:29.061058Z",
     "iopub.status.idle": "2023-07-28T17:19:29.073533Z",
     "shell.execute_reply": "2023-07-28T17:19:29.071919Z",
     "shell.execute_reply.started": "2023-07-28T17:19:29.061341Z"
    },
    "tags": []
   },
   "outputs": [
    {
     "name": "stdout",
     "output_type": "stream",
     "text": [
      "[0, 1, 4, 9, 16, 25, 36, 49, 64, 81]\n",
      "{'Alex': 0, 'Beatrice': 1, 'Charlie': 4}\n"
     ]
    }
   ],
   "source": [
    "squares = []\n",
    "for i in range(10):\n",
    "    squares.append(i**2)\n",
    "print(squares)\n",
    "    \n",
    "names = ['Alex', 'Beatrice', 'Charlie']\n",
    "assigned_numbers = {}\n",
    "for idx, name in enumerate(names):\n",
    "    assigned_numbers[name] = squares[idx]\n",
    "print(assigned_numbers)"
   ]
  },
  {
   "cell_type": "markdown",
   "id": "b525a810-eb15-4216-abe4-510925d6779c",
   "metadata": {},
   "source": [
    "All we're doing here is transforming one (or two) sequence(s) into a new structure in a pretty direct way. But our intention gets a little lost in all the appending and assigning, and it feels longer than it has to be. Python has a quick way of creating lists and dictionaries out of iterables in this direct way, called *list comprehensions* and *dict comprehensions*. \n",
    "\n",
    "We'll start with lists. Here's the basic syntax: `new_list = [<expression with x> for x in old_list]`"
   ]
  },
  {
   "cell_type": "code",
   "execution_count": 166,
   "id": "3b79da37-f591-40cb-a0c3-e282365bd3ed",
   "metadata": {
    "execution": {
     "iopub.execute_input": "2023-07-28T17:25:03.647144Z",
     "iopub.status.busy": "2023-07-28T17:25:03.646692Z",
     "iopub.status.idle": "2023-07-28T17:25:03.654087Z",
     "shell.execute_reply": "2023-07-28T17:25:03.652926Z",
     "shell.execute_reply.started": "2023-07-28T17:25:03.647088Z"
    },
    "tags": []
   },
   "outputs": [
    {
     "name": "stdout",
     "output_type": "stream",
     "text": [
      "[0, 1, 4, 9, 16, 25, 36, 49, 64, 81]\n"
     ]
    }
   ],
   "source": [
    "old_list = list(range(10))\n",
    "new_list = [x**2 for x in old_list]\n",
    "print(new_list)"
   ]
  },
  {
   "cell_type": "markdown",
   "id": "ab78e968-0e48-4a48-826c-b99c38e022a5",
   "metadata": {},
   "source": [
    "Of course, you don't have to call things `old_list`, `x`, or `new_list`. You also can have `old_list` be any iterable - that is, anything you could do a `for` loop over. The list comprehension is essentially just a `for` loop that returns a list."
   ]
  },
  {
   "cell_type": "code",
   "execution_count": 168,
   "id": "20656b3e-527c-4d05-adb7-24c85bea352c",
   "metadata": {
    "execution": {
     "iopub.execute_input": "2023-07-28T17:33:04.119411Z",
     "iopub.status.busy": "2023-07-28T17:33:04.118948Z",
     "iopub.status.idle": "2023-07-28T17:33:04.138372Z",
     "shell.execute_reply": "2023-07-28T17:33:04.137325Z",
     "shell.execute_reply.started": "2023-07-28T17:33:04.119355Z"
    },
    "tags": []
   },
   "outputs": [
    {
     "name": "stdout",
     "output_type": "stream",
     "text": [
      "[0, 1, 4, 9, 16, 25, 36, 49, 64, 81]\n",
      "[0, 1, 0, 1, 0, 1, 0, 1, 0, 1]\n",
      "['a12', 'b4', 'c60']\n"
     ]
    }
   ],
   "source": [
    "squares = [n**2 for n in range(10)]\n",
    "print(squares)\n",
    "a = 4\n",
    "squares_mod_a = [n%a for n in squares]\n",
    "print(squares_mod_a)\n",
    "\n",
    "# Any valid for loop header is valid in a list comprehension\n",
    "d = {\"a\":12, \"b\":4, \"c\":60}\n",
    "as_strings = [key+str(val) for key, val in d.items()]\n",
    "print(as_strings)"
   ]
  },
  {
   "cell_type": "markdown",
   "id": "358ccc3e-949b-4902-b133-18b1c2154b30",
   "metadata": {},
   "source": [
    "Sometimes, you don't want to select every element from `old_list`. Instead, you might want to filter them based on a condition. You can use this syntax for that: `new_list = [<expr(x)> for x in old_list if <condition(x)>]`. The new list will only contain elements corresponding to `x` where the condition evaluates to `True`."
   ]
  },
  {
   "cell_type": "code",
   "execution_count": 171,
   "id": "282a2e19-dc84-416d-b4fa-587c3da4cc50",
   "metadata": {
    "execution": {
     "iopub.execute_input": "2023-07-28T17:41:48.185820Z",
     "iopub.status.busy": "2023-07-28T17:41:48.185370Z",
     "iopub.status.idle": "2023-07-28T17:41:48.199095Z",
     "shell.execute_reply": "2023-07-28T17:41:48.191405Z",
     "shell.execute_reply.started": "2023-07-28T17:41:48.185762Z"
    },
    "tags": []
   },
   "outputs": [
    {
     "name": "stdout",
     "output_type": "stream",
     "text": [
      "[0, 4, 16, 36, 64]\n"
     ]
    }
   ],
   "source": [
    "even_squares = [n**2 for n in range(10) if n%2 == 0]\n",
    "print(even_squares)"
   ]
  },
  {
   "cell_type": "markdown",
   "id": "4eac11cf-9fdd-482e-b28f-5a7900f56e3c",
   "metadata": {},
   "source": [
    "You can also loop over multiple iterables by including other `for` statements:"
   ]
  },
  {
   "cell_type": "code",
   "execution_count": 175,
   "id": "c794c305-6a0c-4bdf-ac32-f82072af8df5",
   "metadata": {
    "execution": {
     "iopub.execute_input": "2023-07-28T17:45:30.627226Z",
     "iopub.status.busy": "2023-07-28T17:45:30.626796Z",
     "iopub.status.idle": "2023-07-28T17:45:30.637491Z",
     "shell.execute_reply": "2023-07-28T17:45:30.635453Z",
     "shell.execute_reply.started": "2023-07-28T17:45:30.627170Z"
    },
    "tags": []
   },
   "outputs": [
    {
     "name": "stdout",
     "output_type": "stream",
     "text": [
      "[(0, 9), (1, 9), (4, 8), (8, 4), (9, 0), (9, 1)]\n"
     ]
    }
   ],
   "source": [
    "close_circle_points = [(x,y) for x in range(10) for y in range(10) if (x**2 + y**2 <= 9**2+1) and (x**2 + y**2 >= 9**2-1)]\n",
    "print(circle_points)"
   ]
  },
  {
   "cell_type": "markdown",
   "id": "c8c08446-f7cf-4721-88c1-893e7bc384b0",
   "metadata": {},
   "source": [
    "And you can nest list comprehensions to create multi-dimensional lists:"
   ]
  },
  {
   "cell_type": "code",
   "execution_count": 177,
   "id": "73b030ee-dfde-41a3-a331-bb79975ae941",
   "metadata": {
    "execution": {
     "iopub.execute_input": "2023-07-28T17:47:46.016903Z",
     "iopub.status.busy": "2023-07-28T17:47:46.016497Z",
     "iopub.status.idle": "2023-07-28T17:47:46.024215Z",
     "shell.execute_reply": "2023-07-28T17:47:46.022486Z",
     "shell.execute_reply.started": "2023-07-28T17:47:46.016849Z"
    },
    "tags": []
   },
   "outputs": [
    {
     "name": "stdout",
     "output_type": "stream",
     "text": [
      "[[0, 1, 2, 3, 4, 5], [6, 7, 8, 9, 10, 11], [12, 13, 14, 15, 16, 17], [18, 19, 20, 21, 22, 23], [24, 25, 26, 27, 28, 29], [30, 31, 32, 33, 34, 35]]\n"
     ]
    }
   ],
   "source": [
    "number_grid = [[x+6*y for x in range(6)] for y in range(6)]\n",
    "print(number_grid)"
   ]
  },
  {
   "cell_type": "markdown",
   "id": "2570248c-8a86-4de1-bc70-865af53e891a",
   "metadata": {},
   "source": [
    "The syntax for dictionary comprehensions is very similar: `new_dict = {<key_expr>:<val_expr> for x in <iterable>}`"
   ]
  },
  {
   "cell_type": "code",
   "execution_count": null,
   "id": "382faa65-eac3-47bd-9643-8514561b0e55",
   "metadata": {
    "execution": {
     "iopub.execute_input": "2023-07-28T17:51:16.736964Z",
     "iopub.status.busy": "2023-07-28T17:51:16.733706Z",
     "iopub.status.idle": "2023-07-28T17:51:16.750691Z",
     "shell.execute_reply": "2023-07-28T17:51:16.748649Z",
     "shell.execute_reply.started": "2023-07-28T17:51:16.736900Z"
    },
    "tags": []
   },
   "outputs": [
    {
     "name": "stdout",
     "output_type": "stream",
     "text": [
      "{'a': 1, 'b': 4, 'c': 8}\n",
      "{'a': [1, 4, 9], 'b': [16, 9, 64], 'c': [64, 16, 1]}\n",
      "{'a': [2], 'b': [4, 8], 'c': [8, 4]}\n"
     ]
    }
   ],
   "source": [
    "old_dict = {\"a\":[1,2,3], \"b\":[4,3,8], \"c\":[8,4,1]}\n",
    "new_"
   ]
  },
  {
   "cell_type": "markdown",
   "id": "cb812cc3-393f-41bd-98f0-5affe0c9d6f5",
   "metadata": {
    "jp-MarkdownHeadingCollapsed": true,
    "tags": []
   },
   "source": [
    "### Errors and Error Handling"
   ]
  },
  {
   "cell_type": "markdown",
   "id": "82414b3d-034e-48e7-9d94-519cd41c61a0",
   "metadata": {},
   "source": [
    "Now let's say there's an error during one of the steps in our code. For example, the case below."
   ]
  },
  {
   "cell_type": "code",
   "execution_count": 182,
   "id": "912a0128-3145-4523-8e2b-8e44c3c802b5",
   "metadata": {
    "execution": {
     "iopub.execute_input": "2023-07-28T18:05:50.530421Z",
     "iopub.status.busy": "2023-07-28T18:05:50.529960Z",
     "iopub.status.idle": "2023-07-28T18:05:50.553450Z",
     "shell.execute_reply": "2023-07-28T18:05:50.551938Z",
     "shell.execute_reply.started": "2023-07-28T18:05:50.530365Z"
    }
   },
   "outputs": [
    {
     "name": "stdout",
     "output_type": "stream",
     "text": [
      "0 + 22 = 22\n",
      "4 + 22 = 26\n",
      "2 + 22 = 24\n",
      "8 + 22 = 30\n",
      "4 + 22 = 26\n",
      "6 + 22 = 28\n"
     ]
    },
    {
     "ename": "TypeError",
     "evalue": "unsupported operand type(s) for +: 'NoneType' and 'int'",
     "output_type": "error",
     "traceback": [
      "\u001b[0;31m---------------------------------------------------------------------------\u001b[0m",
      "\u001b[0;31mTypeError\u001b[0m                                 Traceback (most recent call last)",
      "\u001b[0;32m<ipython-input-182-81b3fdd59a46>\u001b[0m in \u001b[0;36m<module>\u001b[0;34m\u001b[0m\n\u001b[1;32m      2\u001b[0m \u001b[0;34m\u001b[0m\u001b[0m\n\u001b[1;32m      3\u001b[0m \u001b[0;32mfor\u001b[0m \u001b[0mnum\u001b[0m \u001b[0;32min\u001b[0m \u001b[0mnums\u001b[0m\u001b[0;34m:\u001b[0m\u001b[0;34m\u001b[0m\u001b[0;34m\u001b[0m\u001b[0m\n\u001b[0;32m----> 4\u001b[0;31m     \u001b[0mprint\u001b[0m\u001b[0;34m(\u001b[0m\u001b[0;34mf'{num} + 22 = {num + 22}'\u001b[0m\u001b[0;34m)\u001b[0m\u001b[0;34m\u001b[0m\u001b[0;34m\u001b[0m\u001b[0m\n\u001b[0m",
      "\u001b[0;31mTypeError\u001b[0m: unsupported operand type(s) for +: 'NoneType' and 'int'"
     ]
    }
   ],
   "source": [
    "nums = [0, 4, 2, 8, 4, 6, None, 2, 5, 1, 73]\n",
    "\n",
    "for num in nums:\n",
    "    print(f'{num} + 22 = {num + 22}')"
   ]
  },
  {
   "cell_type": "markdown",
   "id": "b946f56e-aefe-4320-a310-53174a309189",
   "metadata": {},
   "source": [
    "As you can see, everything's fine till we reach the None value in our code. Here's how we can skip past the step and continue as if nothing happened:"
   ]
  },
  {
   "cell_type": "code",
   "execution_count": 183,
   "id": "c969e93a-f2cd-49f2-8628-f4aac79f4608",
   "metadata": {
    "execution": {
     "iopub.execute_input": "2023-07-28T18:06:01.510183Z",
     "iopub.status.busy": "2023-07-28T18:06:01.509780Z",
     "iopub.status.idle": "2023-07-28T18:06:01.526883Z",
     "shell.execute_reply": "2023-07-28T18:06:01.520598Z",
     "shell.execute_reply.started": "2023-07-28T18:06:01.510130Z"
    }
   },
   "outputs": [
    {
     "name": "stdout",
     "output_type": "stream",
     "text": [
      "0 + 22 = 22\n",
      "4 + 22 = 26\n",
      "2 + 22 = 24\n",
      "8 + 22 = 30\n",
      "4 + 22 = 26\n",
      "6 + 22 = 28\n",
      "Error for None: unsupported operand type(s) for +: 'NoneType' and 'int'\n",
      "2 + 22 = 24\n",
      "5 + 22 = 27\n",
      "1 + 22 = 23\n",
      "73 + 22 = 95\n"
     ]
    }
   ],
   "source": [
    "nums = [0, 4, 2, 8, 4, 6, None, 2, 5, 1, 73]\n",
    "\n",
    "for num in nums:\n",
    "    try:\n",
    "        print(f'{num} + 22 = {num + 22}')\n",
    "    except Exception as e:\n",
    "        print(f'Error for {num}: {e}')"
   ]
  },
  {
   "cell_type": "markdown",
   "id": "4d94a616-e3a0-4b35-b0f9-d6837e3b4395",
   "metadata": {},
   "source": [
    "When Python code runs into an issue (like bad inputs), it stops and alerts whatever called it that it can't continue. The mechanism for this is called \"*raising an exception*\". Sometimes we can *handle* the exception, as we did in this code above, using a *try-except* statement. In the absence of a try-except statement, though, the exception bubbles up through the chain of callers until it either gets handled, or interrupts execution and displays an error message.\n",
    "\n",
    "Exceptions are their own family of types. You can see a full list of the built-in Exception types [here](https://docs.python.org/3/library/exceptions.html#bltin-exceptions). If you want to raise your own exceptions, the most useful types are `ValueError` and `AssertionError`. Here's how they're used:"
   ]
  },
  {
   "cell_type": "code",
   "execution_count": 184,
   "id": "bf729e00-dd79-4451-b7c4-988e7439723d",
   "metadata": {
    "execution": {
     "iopub.execute_input": "2023-07-28T18:25:59.609798Z",
     "iopub.status.busy": "2023-07-28T18:25:59.609344Z",
     "iopub.status.idle": "2023-07-28T18:25:59.627424Z",
     "shell.execute_reply": "2023-07-28T18:25:59.625946Z",
     "shell.execute_reply.started": "2023-07-28T18:25:59.609742Z"
    },
    "tags": []
   },
   "outputs": [
    {
     "ename": "ValueError",
     "evalue": "message",
     "output_type": "error",
     "traceback": [
      "\u001b[0;31m---------------------------------------------------------------------------\u001b[0m",
      "\u001b[0;31mValueError\u001b[0m                                Traceback (most recent call last)",
      "\u001b[0;32m<ipython-input-184-32317def72d9>\u001b[0m in \u001b[0;36m<module>\u001b[0;34m\u001b[0m\n\u001b[1;32m      1\u001b[0m \u001b[0me\u001b[0m \u001b[0;34m=\u001b[0m \u001b[0mValueError\u001b[0m\u001b[0;34m(\u001b[0m\u001b[0;34m'message'\u001b[0m\u001b[0;34m)\u001b[0m\u001b[0;34m\u001b[0m\u001b[0;34m\u001b[0m\u001b[0m\n\u001b[0;32m----> 2\u001b[0;31m \u001b[0;32mraise\u001b[0m \u001b[0me\u001b[0m\u001b[0;34m\u001b[0m\u001b[0;34m\u001b[0m\u001b[0m\n\u001b[0m",
      "\u001b[0;31mValueError\u001b[0m: message"
     ]
    }
   ],
   "source": [
    "e = ValueError('message')\n",
    "raise e"
   ]
  },
  {
   "cell_type": "code",
   "execution_count": 189,
   "id": "cd53ac81-5e49-43b4-865b-08dae9c61051",
   "metadata": {
    "execution": {
     "iopub.execute_input": "2023-07-28T18:28:41.740702Z",
     "iopub.status.busy": "2023-07-28T18:28:41.740245Z",
     "iopub.status.idle": "2023-07-28T18:28:41.754630Z",
     "shell.execute_reply": "2023-07-28T18:28:41.752815Z",
     "shell.execute_reply.started": "2023-07-28T18:28:41.740645Z"
    },
    "tags": []
   },
   "outputs": [
    {
     "ename": "ValueError",
     "evalue": "('message1', 'message2')",
     "output_type": "error",
     "traceback": [
      "\u001b[0;31m---------------------------------------------------------------------------\u001b[0m",
      "\u001b[0;31mValueError\u001b[0m                                Traceback (most recent call last)",
      "\u001b[0;32m<ipython-input-189-0c3a1c5f303c>\u001b[0m in \u001b[0;36m<module>\u001b[0;34m\u001b[0m\n\u001b[0;32m----> 1\u001b[0;31m \u001b[0;32mraise\u001b[0m \u001b[0mValueError\u001b[0m\u001b[0;34m(\u001b[0m\u001b[0;34m'message1'\u001b[0m\u001b[0;34m,\u001b[0m \u001b[0;34mf'message{1+1}'\u001b[0m\u001b[0;34m)\u001b[0m \u001b[0;31m# The f-strings get evaluated\u001b[0m\u001b[0;34m\u001b[0m\u001b[0;34m\u001b[0m\u001b[0m\n\u001b[0m",
      "\u001b[0;31mValueError\u001b[0m: ('message1', 'message2')"
     ]
    }
   ],
   "source": [
    "raise ValueError('message1', f'message{1+1}') # The f-strings get evaluated"
   ]
  },
  {
   "cell_type": "code",
   "execution_count": 187,
   "id": "00a5e6a1-bf2e-4f35-9a02-f47a9b3cfac7",
   "metadata": {
    "execution": {
     "iopub.execute_input": "2023-07-28T18:27:59.889379Z",
     "iopub.status.busy": "2023-07-28T18:27:59.888908Z",
     "iopub.status.idle": "2023-07-28T18:27:59.910377Z",
     "shell.execute_reply": "2023-07-28T18:27:59.908981Z",
     "shell.execute_reply.started": "2023-07-28T18:27:59.889321Z"
    },
    "tags": []
   },
   "outputs": [
    {
     "ename": "AssertionError",
     "evalue": "This message will be displayed",
     "output_type": "error",
     "traceback": [
      "\u001b[0;31m---------------------------------------------------------------------------\u001b[0m",
      "\u001b[0;31mAssertionError\u001b[0m                            Traceback (most recent call last)",
      "\u001b[0;32m<ipython-input-187-84a4a51c9400>\u001b[0m in \u001b[0;36m<module>\u001b[0;34m\u001b[0m\n\u001b[1;32m      2\u001b[0m \u001b[0;32massert\u001b[0m \u001b[0mcondition\u001b[0m\u001b[0;34m,\u001b[0m \u001b[0;34m\"This won't raise an error\"\u001b[0m\u001b[0;34m\u001b[0m\u001b[0;34m\u001b[0m\u001b[0m\n\u001b[1;32m      3\u001b[0m \u001b[0mcondition\u001b[0m \u001b[0;34m=\u001b[0m \u001b[0;32mFalse\u001b[0m\u001b[0;34m\u001b[0m\u001b[0;34m\u001b[0m\u001b[0m\n\u001b[0;32m----> 4\u001b[0;31m \u001b[0;32massert\u001b[0m \u001b[0mcondition\u001b[0m\u001b[0;34m,\u001b[0m \u001b[0;34m\"This message will be displayed\"\u001b[0m\u001b[0;34m\u001b[0m\u001b[0;34m\u001b[0m\u001b[0m\n\u001b[0m",
      "\u001b[0;31mAssertionError\u001b[0m: This message will be displayed"
     ]
    }
   ],
   "source": [
    "condition = True\n",
    "assert condition, \"This won't raise an error\"\n",
    "condition = False\n",
    "assert condition, \"This message will be displayed\""
   ]
  },
  {
   "cell_type": "markdown",
   "id": "10e86845-d114-44df-a99f-6ccf85aa4c7c",
   "metadata": {},
   "source": [
    "Assertions are an easy way to add a quick sanity check to your code. It means that there's something you know should absolutely be true at that point in your code, and you want to make sure some edge case hasn't popped up and messed with your assumptions.\n",
    "\n",
    "What about handling errors? This is more common than raising them. For a complete description, see [the documentation](https://docs.python.org/3/tutorial/errors.html#handling-exceptions). If you have some code that you expect might run into an exception, you can place it in a `try` block. If an exception arises in the `try` block, then Python will stop executing the `try` block, look for a matching `except` block, and continue execution in the first one found. If you want to refer to the Exception, you can use the `as` keyword to save it to a variable of your choice. The message can be displayed by calling `print()` on the Exception."
   ]
  },
  {
   "cell_type": "code",
   "execution_count": 195,
   "id": "5a9994be-9733-475e-8496-a363f667089e",
   "metadata": {
    "execution": {
     "iopub.execute_input": "2023-07-28T18:47:55.246621Z",
     "iopub.status.busy": "2023-07-28T18:47:55.246147Z",
     "iopub.status.idle": "2023-07-28T18:47:55.267117Z",
     "shell.execute_reply": "2023-07-28T18:47:55.266116Z",
     "shell.execute_reply.started": "2023-07-28T18:47:55.246564Z"
    },
    "tags": []
   },
   "outputs": [
    {
     "name": "stdout",
     "output_type": "stream",
     "text": [
      "hello!\n",
      "I tried to divide by zero!\n",
      "Something went wrong\n",
      "Uh oh! That's not allowed!\n",
      "division by zero\n",
      "This is highly contrived\n",
      "Still just as contrived\n"
     ]
    }
   ],
   "source": [
    "try:\n",
    "    a = 1/0\n",
    "except: # <-- If you don't need to refer to the exception, and you want to catch any and all exceptions that might arise, you can just write except:\n",
    "    print(\"hello!\")\n",
    "\n",
    "try:\n",
    "    a = 1/0\n",
    "    print(\"I'll never be printed\")\n",
    "except ZeroDivisionError: # <-- We specify the type of error we're expecting with the name of its type\n",
    "    print(\"I tried to divide by zero!\")\n",
    "\n",
    "try:\n",
    "    a = 1/0\n",
    "except Exception: # <-- This is a general exception type that catches anything that can be handled\n",
    "    print(\"Something went wrong\")\n",
    "\n",
    "try:\n",
    "    a = 1/0\n",
    "except ZeroDivisionError:\n",
    "    print(\"Uh oh! That's not allowed!\")\n",
    "except Exception:\n",
    "    print(\"I don't know what you did, but you definitely didn't divide by zero\")\n",
    "\n",
    "try:\n",
    "    a = 1/0\n",
    "except Exception as e:\n",
    "    print(e)\n",
    "\n",
    "try:\n",
    "    assert False, \"This is highly contrived\"\n",
    "    print(\"I don't do anything\")\n",
    "except Exception as e:\n",
    "    print(e)\n",
    "\n",
    "try:\n",
    "    assert False, \"Still just as contrived\"\n",
    "except AssertionError as e:\n",
    "    print(e)"
   ]
  },
  {
   "cell_type": "markdown",
   "id": "8a2f59f3-7057-4bf2-b28d-3a75028ff589",
   "metadata": {},
   "source": [
    "### Functions"
   ]
  },
  {
   "cell_type": "markdown",
   "id": "5da0a931-3e34-43bd-9b6a-a50a63243ad7",
   "metadata": {},
   "source": [
    "Functions are effectively black boxes that take in variable inputs and release a distinct output. Observe:"
   ]
  },
  {
   "cell_type": "code",
   "execution_count": 196,
   "id": "9e10b6ba-2bd9-4fda-bdbd-e0a28ac89c4e",
   "metadata": {
    "execution": {
     "iopub.execute_input": "2023-07-28T18:51:07.231434Z",
     "iopub.status.busy": "2023-07-28T18:51:07.230963Z",
     "iopub.status.idle": "2023-07-28T18:51:07.241700Z",
     "shell.execute_reply": "2023-07-28T18:51:07.239536Z",
     "shell.execute_reply.started": "2023-07-28T18:51:07.231377Z"
    }
   },
   "outputs": [
    {
     "name": "stdout",
     "output_type": "stream",
     "text": [
      "9\n"
     ]
    }
   ],
   "source": [
    "def add_and_multiply(num_1, num_2, num_3):\n",
    "    return (num_1 + num_2)*num_3\n",
    "\n",
    "num_1 = 1\n",
    "num_2 = 2\n",
    "num_3 = 3\n",
    "\n",
    "num_4 = add_and_multiply(num_1, num_2, num_3)\n",
    "\n",
    "print(num_4)"
   ]
  },
  {
   "cell_type": "code",
   "execution_count": 197,
   "id": "38a07d38-70c1-4071-9fe4-1fe1ebc911c6",
   "metadata": {
    "execution": {
     "iopub.execute_input": "2023-07-28T18:51:08.710854Z",
     "iopub.status.busy": "2023-07-28T18:51:08.710452Z",
     "iopub.status.idle": "2023-07-28T18:51:08.721757Z",
     "shell.execute_reply": "2023-07-28T18:51:08.720732Z",
     "shell.execute_reply.started": "2023-07-28T18:51:08.710800Z"
    }
   },
   "outputs": [
    {
     "name": "stdout",
     "output_type": "stream",
     "text": [
      "6\n",
      "9\n",
      "12\n",
      "15\n",
      "18\n",
      "21\n",
      "24\n",
      "27\n",
      "30\n",
      "33\n"
     ]
    }
   ],
   "source": [
    "for num_1 in range(10):\n",
    "    num_4 = add_and_multiply(num_1, num_2, num_3)\n",
    "    print(num_4)"
   ]
  },
  {
   "cell_type": "markdown",
   "id": "4e39d399-4066-4450-9c4f-06a16b5fcb5f",
   "metadata": {},
   "source": [
    "Note the return statement. It works by instructing the function to terminate and return whatever value follows it.\n",
    "\n",
    "A function can have multiple return statements - it will just return with whichever one it reaches first. You can also use tuples to return multiple values from a function"
   ]
  },
  {
   "cell_type": "code",
   "execution_count": 202,
   "id": "b47c3acb-3da6-40a7-a4ec-fc02f8bc9527",
   "metadata": {
    "execution": {
     "iopub.execute_input": "2023-07-28T19:01:51.710203Z",
     "iopub.status.busy": "2023-07-28T19:01:51.709751Z",
     "iopub.status.idle": "2023-07-28T19:01:51.727459Z",
     "shell.execute_reply": "2023-07-28T19:01:51.726389Z",
     "shell.execute_reply.started": "2023-07-28T19:01:51.710147Z"
    },
    "tags": []
   },
   "outputs": [
    {
     "name": "stdout",
     "output_type": "stream",
     "text": [
      "False\n",
      "True\n",
      "False\n"
     ]
    }
   ],
   "source": [
    "def is_all_none(arr):\n",
    "    for i in arr:\n",
    "        if not i is None:\n",
    "            return False\n",
    "    return True\n",
    "\n",
    "print(is_all_none([None, None, 2, None]))\n",
    "print(is_all_none([None, None, None]))\n",
    "print(is_all_none([1,2,None]))"
   ]
  },
  {
   "cell_type": "code",
   "execution_count": 204,
   "id": "83ead3d5-5340-4c88-a014-d2afb7dff3a2",
   "metadata": {
    "execution": {
     "iopub.execute_input": "2023-07-28T19:05:26.840618Z",
     "iopub.status.busy": "2023-07-28T19:05:26.840149Z",
     "iopub.status.idle": "2023-07-28T19:05:26.853185Z",
     "shell.execute_reply": "2023-07-28T19:05:26.851769Z",
     "shell.execute_reply.started": "2023-07-28T19:05:26.840561Z"
    },
    "tags": []
   },
   "outputs": [
    {
     "name": "stdout",
     "output_type": "stream",
     "text": [
      "(-63, 24)\n",
      "min: -63, max: 24\n"
     ]
    }
   ],
   "source": [
    "def min_max(arr):\n",
    "    current_min = arr[0]\n",
    "    current_max = arr[0]\n",
    "    for item in arr:\n",
    "        if item < current_min:\n",
    "            current_min = item\n",
    "        if item > current_max:\n",
    "            current_max = item\n",
    "    return current_min, current_max\n",
    "\n",
    "arr = [1,2,24,-63]\n",
    "res = min_max(arr)\n",
    "print(res) # <-- The return value is a tuple\n",
    "arr_min, arr_max = min_max(arr) # <-- We can use tuple unpacking to essentially return multiple outputs\n",
    "print(f\"min: {arr_min}, max: {arr_max}\")"
   ]
  },
  {
   "cell_type": "markdown",
   "id": "d6a4da55-8e26-48a8-88d1-7e46ca977c17",
   "metadata": {},
   "source": [
    "Here's an example that integrates all the stuff we have learned so far:"
   ]
  },
  {
   "cell_type": "code",
   "execution_count": 200,
   "id": "492669d4-a4c7-4691-9b42-e66ae21fe84e",
   "metadata": {
    "execution": {
     "iopub.execute_input": "2023-07-28T18:53:57.433952Z",
     "iopub.status.busy": "2023-07-28T18:53:57.433546Z",
     "iopub.status.idle": "2023-07-28T18:53:57.443953Z",
     "shell.execute_reply": "2023-07-28T18:53:57.442649Z",
     "shell.execute_reply.started": "2023-07-28T18:53:57.433897Z"
    },
    "tags": []
   },
   "outputs": [
    {
     "name": "stdout",
     "output_type": "stream",
     "text": [
      "2003\n"
     ]
    }
   ],
   "source": [
    "def find_max(arr):\n",
    "    max_item = 0\n",
    "    for item in arr:\n",
    "        if item > max_item:\n",
    "            max_item = item\n",
    "    return max_item\n",
    "            \n",
    "arr = [1, 34, 12, 0, -100, 2003]\n",
    "\n",
    "max_item = find_max(arr)\n",
    "print(max_item)"
   ]
  },
  {
   "cell_type": "markdown",
   "id": "36a3fff4-f5f5-4617-a281-4fa06f3838b0",
   "metadata": {
    "tags": []
   },
   "source": [
    "This works for lists of numbers, but what if I accidentally gave it a list with numbers and non-numbers in it? Then it would raise an exception when it tries to compare them. If we want to just ignore those elements, we can rewrite our function with a try-except statement:"
   ]
  },
  {
   "cell_type": "code",
   "execution_count": 201,
   "id": "91b308fd-4db4-4dfc-9a3f-396007203035",
   "metadata": {
    "execution": {
     "iopub.execute_input": "2023-07-28T18:57:21.619020Z",
     "iopub.status.busy": "2023-07-28T18:57:21.618564Z",
     "iopub.status.idle": "2023-07-28T18:57:21.630190Z",
     "shell.execute_reply": "2023-07-28T18:57:21.629115Z",
     "shell.execute_reply.started": "2023-07-28T18:57:21.618965Z"
    },
    "tags": []
   },
   "outputs": [
    {
     "name": "stdout",
     "output_type": "stream",
     "text": [
      "2003\n"
     ]
    }
   ],
   "source": [
    "def find_max(arr):\n",
    "    max_item = 0\n",
    "    for item in arr:\n",
    "        try:\n",
    "            if item > max_item:\n",
    "                max_item = item\n",
    "        except:\n",
    "            continue\n",
    "    return max_item\n",
    "            \n",
    "arr = [1, 34, 12, 0, \"7\", \"I'm sneaky hehe\", -100, None, 2003]\n",
    "\n",
    "max_item = find_max(arr)\n",
    "print(max_item)"
   ]
  },
  {
   "cell_type": "markdown",
   "id": "85ca0758-6bca-4f77-bf45-0e375dc77bd8",
   "metadata": {},
   "source": [
    "There's still some room for improvement, but more on that later..."
   ]
  },
  {
   "cell_type": "markdown",
   "id": "475fc1eb-cd8c-4b65-a647-80293a8efe37",
   "metadata": {
    "tags": []
   },
   "source": [
    "## NumPy"
   ]
  },
  {
   "cell_type": "markdown",
   "id": "2971b64a-450e-4616-bce3-1ae38ecb3e5b",
   "metadata": {},
   "source": [
    "[\"NumPy: The Absolute Basics For Beginners\"](https://numpy.org/devdocs/user/absolute_beginners.html) - a great place to start if you haven't used NumPy before\n",
    "\n",
    "[NumPy User Guide](https://numpy.org/devdocs/user/index.html) - overviews of the concepts and features, and how to use them\n",
    "\n",
    "[NumPy Reference](https://numpy.org/devdocs/reference/index.html#reference) - contains detailed descriptions of every NumPy feature"
   ]
  },
  {
   "cell_type": "markdown",
   "id": "568310a4-a418-45eb-ab5d-49c6f9924d4c",
   "metadata": {
    "tags": []
   },
   "source": [
    "### The Problem NumPy Solves"
   ]
  },
  {
   "cell_type": "markdown",
   "id": "57a0bda3-b4a1-4b48-9294-b393bc203eeb",
   "metadata": {},
   "source": [
    "Suppose that we have an `NxN` grid of numbers. For concreteness, let's say that each entry represents the population that lives within a square mile, and let's call our grid `pop`. In normal Python, we would represent this with a list of lists, like this:"
   ]
  },
  {
   "cell_type": "code",
   "execution_count": 32,
   "id": "5489e7bf-8187-45af-9476-4d594be8c69f",
   "metadata": {
    "execution": {
     "iopub.execute_input": "2023-07-20T14:12:34.573794Z",
     "iopub.status.busy": "2023-07-20T14:12:34.573344Z",
     "iopub.status.idle": "2023-07-20T14:12:34.580732Z",
     "shell.execute_reply": "2023-07-20T14:12:34.578951Z",
     "shell.execute_reply.started": "2023-07-20T14:12:34.573737Z"
    },
    "tags": []
   },
   "outputs": [],
   "source": [
    "pop = [[476, 108, 347, 520],\n",
    "       [273, 177, 175, 336],\n",
    "       [215, 529, 110, 253],\n",
    "       [201, 223, 319, 231]]"
   ]
  },
  {
   "cell_type": "markdown",
   "id": "215f230f-57af-415d-8ce7-5a59343c30bd",
   "metadata": {},
   "source": [
    "We can get the population in row 1 and column 2:"
   ]
  },
  {
   "cell_type": "code",
   "execution_count": 34,
   "id": "2eef87a7-f8e4-41f0-986a-1a627f8f0483",
   "metadata": {
    "execution": {
     "iopub.execute_input": "2023-07-20T14:22:06.285504Z",
     "iopub.status.busy": "2023-07-20T14:22:06.285071Z",
     "iopub.status.idle": "2023-07-20T14:22:06.294328Z",
     "shell.execute_reply": "2023-07-20T14:22:06.292308Z",
     "shell.execute_reply.started": "2023-07-20T14:22:06.285452Z"
    },
    "tags": []
   },
   "outputs": [
    {
     "data": {
      "text/plain": [
       "175"
      ]
     },
     "execution_count": 34,
     "metadata": {},
     "output_type": "execute_result"
    }
   ],
   "source": [
    "pop[1][2] # Remember we're using 0-indexing!"
   ]
  },
  {
   "cell_type": "markdown",
   "id": "fad4ce79-6c0d-4188-8b9c-205a8ba9b7b0",
   "metadata": {},
   "source": [
    "And we can get the whole 3rd row quite easily:"
   ]
  },
  {
   "cell_type": "code",
   "execution_count": 35,
   "id": "2e788fe8-67bf-44c3-bfb0-1d13ec356e33",
   "metadata": {
    "execution": {
     "iopub.execute_input": "2023-07-20T14:22:17.235774Z",
     "iopub.status.busy": "2023-07-20T14:22:17.235368Z",
     "iopub.status.idle": "2023-07-20T14:22:17.244841Z",
     "shell.execute_reply": "2023-07-20T14:22:17.243421Z",
     "shell.execute_reply.started": "2023-07-20T14:22:17.235719Z"
    }
   },
   "outputs": [
    {
     "data": {
      "text/plain": [
       "[201, 223, 319, 231]"
      ]
     },
     "execution_count": 35,
     "metadata": {},
     "output_type": "execute_result"
    }
   ],
   "source": [
    "pop[3]"
   ]
  },
  {
   "cell_type": "markdown",
   "id": "0c5c9142-b10b-48a1-96ab-d09fa34dd7a8",
   "metadata": {},
   "source": [
    "But what if we wanted to get the 3rd *column*? There's no way to write something like `pop[][3]` or `pop[:][3]` that will be short and clear (the first is invalid syntax, and the second actually gives you the 3rd row again - why?). Instead, you're forced to write a for-loop, or use a fancy Python feature called a \"*list comprehension*\", in order to extract the 3rd element from each row:"
   ]
  },
  {
   "cell_type": "code",
   "execution_count": 38,
   "id": "10ed65f0-5af7-4911-ac38-20b1e5aee9ef",
   "metadata": {
    "execution": {
     "iopub.execute_input": "2023-07-20T14:31:35.812108Z",
     "iopub.status.busy": "2023-07-20T14:31:35.811659Z",
     "iopub.status.idle": "2023-07-20T14:31:35.822768Z",
     "shell.execute_reply": "2023-07-20T14:31:35.821346Z",
     "shell.execute_reply.started": "2023-07-20T14:31:35.812050Z"
    },
    "tags": []
   },
   "outputs": [
    {
     "name": "stdout",
     "output_type": "stream",
     "text": [
      "Using a for-loop: [520, 336, 253, 231]\n",
      "Using a list comprehension: [520, 336, 253, 231]\n"
     ]
    }
   ],
   "source": [
    "forloop = []\n",
    "for row in pop:\n",
    "    forloop.append(row[3])\n",
    "print(f\"Using a for-loop: {forloop}\")\n",
    "\n",
    "listcomp = [row[3] for row in pop]\n",
    "print(f\"Using a list comprehension: {listcomp}\")"
   ]
  },
  {
   "cell_type": "markdown",
   "id": "3cf469f5-6fe3-440b-9714-3720754816cb",
   "metadata": {},
   "source": [
    "Not only does this look more complicated than it has to be, it also takes longer. This doesn't matter for small grids like `pop`, which is only `4x4`, but when we're working with EEG data, there are going to be hundreds of grids, each with hundreds of rows and columns, and that adds up to quite a lot!"
   ]
  },
  {
   "cell_type": "code",
   "execution_count": 44,
   "id": "b4ceefbe-a188-4cde-8eba-05f46b3a7e1b",
   "metadata": {
    "execution": {
     "iopub.execute_input": "2023-07-20T14:55:26.261583Z",
     "iopub.status.busy": "2023-07-20T14:55:26.261082Z",
     "iopub.status.idle": "2023-07-20T14:55:38.778201Z",
     "shell.execute_reply": "2023-07-20T14:55:38.777656Z",
     "shell.execute_reply.started": "2023-07-20T14:55:26.261524Z"
    },
    "tags": []
   },
   "outputs": [
    {
     "name": "stdout",
     "output_type": "stream",
     "text": [
      "33.6 ns ± 0.508 ns per loop (mean ± std. dev. of 7 runs, 10000000 loops each)\n",
      "12 µs ± 69.2 ns per loop (mean ± std. dev. of 7 runs, 100000 loops each)\n"
     ]
    }
   ],
   "source": [
    "big_grid = [list(range(300)) for _ in range(300)] # This will produce a 300x300 grid, where each row is just the numbers 0-299\n",
    "\n",
    "%timeit row = big_grid[100]\n",
    "\n",
    "%timeit col = [r[100] for r in big_grid]"
   ]
  },
  {
   "cell_type": "markdown",
   "id": "cd540d67-6365-451e-afc0-1713a9f9a3c0",
   "metadata": {},
   "source": [
    "And so far, we're just trying to get a column out of a grid. What if we wanted to find the average population across `pop`? What if we wanted to get the average of each row and each column, to see how the population is distributed along each axis? What if we wanted to compare the population data in `pop` to a more recent survey of the same area - how would we get the change in population in each grid cell from one survey to the next? All of these can be done without much difficulty, but they're slow and hard to generalize.\n",
    "\n",
    "The reason that there can't be a succinct, fast way to do these things is because Python lists do not have to be homogeneous. Part of their design is to let you make one row shorter, or replace one of the rows with a string. To the computer, `pop` is just a list of four things, each of which only reveals itself to be a list of four numbers upon individual inspection. The *structure* of our grid isn't reflected in our *representation* of it using Python lists.\n",
    "\n",
    "What's the solution to our problem? Enter *NumPy*: a library that provides fast, accurate, and convenient ways to work with multi-dimensional numeric data."
   ]
  },
  {
   "cell_type": "markdown",
   "id": "660fc1fc-1ae0-4c34-89ee-f987fa47503a",
   "metadata": {},
   "source": [
    "### Concepts"
   ]
  },
  {
   "cell_type": "markdown",
   "id": "7cbe6554-40ff-4793-9c61-dfe9016f94ee",
   "metadata": {},
   "source": [
    "If you're using the \"workshop\" kernel (which you should be), then you already have NumPy installed. To use it in your code, you just have to import it:"
   ]
  },
  {
   "cell_type": "code",
   "execution_count": 45,
   "id": "67dffa1d-eeaa-41bb-9c5f-c2f352b19a39",
   "metadata": {
    "execution": {
     "iopub.execute_input": "2023-07-20T15:26:38.111094Z",
     "iopub.status.busy": "2023-07-20T15:26:38.110598Z",
     "iopub.status.idle": "2023-07-20T15:26:38.116982Z",
     "shell.execute_reply": "2023-07-20T15:26:38.115418Z",
     "shell.execute_reply.started": "2023-07-20T15:26:38.111036Z"
    }
   },
   "outputs": [],
   "source": [
    "import numpy as np # <-- It's universally standard practice to import numpy as np"
   ]
  },
  {
   "cell_type": "markdown",
   "id": "936008e7-5383-48d7-8e04-a2253f3846f9",
   "metadata": {},
   "source": [
    "Let's see how NumPy helps us work with our grid `pop` from before. First, we need to turn `pop` into a NumPy *array*. Arrays provide an efficient way of handling homogeneous (i.e. all the same data type - integers, floats, etc.) numerical data. Transforming `pop` into an array is pretty simple:"
   ]
  },
  {
   "cell_type": "code",
   "execution_count": 47,
   "id": "e8c0cf92-273f-4ed0-ade5-04c227571f38",
   "metadata": {
    "execution": {
     "iopub.execute_input": "2023-07-20T16:13:40.562581Z",
     "iopub.status.busy": "2023-07-20T16:13:40.562111Z",
     "iopub.status.idle": "2023-07-20T16:13:40.572497Z",
     "shell.execute_reply": "2023-07-20T16:13:40.570549Z",
     "shell.execute_reply.started": "2023-07-20T16:13:40.562523Z"
    },
    "tags": []
   },
   "outputs": [
    {
     "data": {
      "text/plain": [
       "array([[476, 108, 347, 520],\n",
       "       [273, 177, 175, 336],\n",
       "       [215, 529, 110, 253],\n",
       "       [201, 223, 319, 231]])"
      ]
     },
     "execution_count": 47,
     "metadata": {},
     "output_type": "execute_result"
    }
   ],
   "source": [
    "pop = np.array(pop)\n",
    "pop"
   ]
  },
  {
   "cell_type": "markdown",
   "id": "e5018747-27a3-4fbe-898a-38cadb3d16a2",
   "metadata": {},
   "source": [
    "Now selecting rows and columns is easy, as are the other tasks that were nontrivial before:"
   ]
  },
  {
   "cell_type": "code",
   "execution_count": 66,
   "id": "b3cce158-3aa4-4623-a5eb-4d08f2371319",
   "metadata": {
    "execution": {
     "iopub.execute_input": "2023-07-20T16:54:15.333504Z",
     "iopub.status.busy": "2023-07-20T16:54:15.333040Z",
     "iopub.status.idle": "2023-07-20T16:54:15.354498Z",
     "shell.execute_reply": "2023-07-20T16:54:15.353492Z",
     "shell.execute_reply.started": "2023-07-20T16:54:15.333447Z"
    },
    "tags": []
   },
   "outputs": [
    {
     "name": "stdout",
     "output_type": "stream",
     "text": [
      "1st row:    [273 177 175 336]\n",
      "3rd column: [520 336 253 231]\n",
      "Avg pop:     280.8125\n",
      "Avg row:    [291.25 259.25 237.75 335.  ]\n",
      "Avg col:    [362.75 240.25 276.75 243.5 ]\n",
      "Change:     [[-104  297 -107 -139]\n",
      "             [ 232  323  382  -95]\n",
      "             [  58 -300  173  194]\n",
      "             [ 160  339  117  251]]\n"
     ]
    }
   ],
   "source": [
    "# Selecting rows (identical to normal syntax)\n",
    "print(f\"1st row:    {pop[1]}\")\n",
    "\n",
    "# Selecting columns (if you do [3,:] instead, you get the 3rd row)\n",
    "print(f\"3rd column: {pop[:,3]}\")\n",
    "\n",
    "# Average of the whole array\n",
    "print(f\"Avg pop:     {pop.mean()}\")\n",
    "\n",
    "# Average of the rows\n",
    "print(f\"Avg row:    {pop.mean(axis=0)}\")\n",
    "\n",
    "# Average of the columns\n",
    "print(f\"Avg col:    {pop.mean(axis=1)}\")\n",
    "\n",
    "# Making a random array of the same size as pop to act as a hypothetical \"new population survey\"\n",
    "# This is actually how pop was generated\n",
    "rng = np.random.default_rng()\n",
    "new_pop = rng.integers(200, 600, size=pop.shape)\n",
    "\n",
    "# Change in population\n",
    "change = new_pop - pop\n",
    "# Using a method to make it print nicely\n",
    "print(f\"Change:     {np.array2string(change, prefix='Change:     ')}\")"
   ]
  },
  {
   "cell_type": "markdown",
   "id": "e10e7ab7-e3b3-4b23-8575-8df1b8f80d25",
   "metadata": {},
   "source": [
    "When you're working with arrays, you generally want to use the functions NumPy provides you, when possible. They're much faster than the equivalent code, and they help keep you thinking about your data as a whole. So instead of doing something like this:\n",
    "\n",
    "    total = 0\n",
    "    for row in pop:\n",
    "        for val in row:\n",
    "            total += val\n",
    "\n",
    "You should just do this:\n",
    "\n",
    "    total = pop.sum()\n",
    "    \n",
    "A good rule of thumb is to **try not to iterate over a NumPy array**. You *can* iterate over a Numpy array (see [the documentation](https://numpy.org/devdocs/user/quickstart.html#quickstart-indexing-slicing-and-iterating) for more details). And you may *occasionally* find it to be the best approach for what you want to do. But it usually isn't."
   ]
  },
  {
   "cell_type": "markdown",
   "id": "5dd6bb4c-0061-41d0-b5b7-54a27283ff1e",
   "metadata": {},
   "source": [
    "#### dtype\n",
    "\n",
    "NumPy has its own collection of numeric data types that it uses to be more efficient. They're mostly the same as the types that you've seen before (integers, floats, booleans), except they take up a fixed number of bits in memory. NumPy does a lot of the type conversion for you, but "
   ]
  }
 ],
 "metadata": {
  "kernelspec": {
   "display_name": "workshop",
   "language": "python",
   "name": "workshop"
  },
  "language_info": {
   "codemirror_mode": {
    "name": "ipython",
    "version": 3
   },
   "file_extension": ".py",
   "mimetype": "text/x-python",
   "name": "python",
   "nbconvert_exporter": "python",
   "pygments_lexer": "ipython3",
   "version": "3.7.6"
  }
 },
 "nbformat": 4,
 "nbformat_minor": 5
}
