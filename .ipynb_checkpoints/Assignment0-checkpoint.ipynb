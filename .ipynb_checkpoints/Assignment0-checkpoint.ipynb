{
 "cells": [
  {
   "cell_type": "markdown",
   "id": "ad81d3be-303e-475a-a236-9577cc63f484",
   "metadata": {},
   "source": [
    "# Assignment 0\n",
    "\n",
    "## Table of Contents\n",
    "\n",
    "* JupyterLab Basics\n",
    "\n",
    "    * What is a Notebook?\n",
    "    \n",
    "    * What is a kernel?\n",
    "    \n",
    "    * How to use JupyterLab\n",
    "\n",
    "* Python Basics\n",
    "\n",
    "    * Data Types, Variable Assignment\n",
    "    \n",
    "    * Basic useful functions and operations (print, +=, %, //)\n",
    "    \n",
    "    * Control Flow\n",
    "    \n",
    "    * Objects\n",
    "    \n",
    "    * Functions\n",
    "    \n",
    "    * Exceptions\n",
    "    \n",
    "    * Miscellaneous Useful built-ins (sys, os, pickle)\n",
    "    \n",
    "* Rhino Basics\n",
    "\n",
    "* NumPy\n",
    "\n",
    "* Matplotlib\n",
    "\n",
    "* Pandas\n",
    "\n",
    "* xArray\n",
    "\n",
    "* Statistics"
   ]
  }
 ],
 "metadata": {
  "kernelspec": {
   "display_name": "workshop",
   "language": "python",
   "name": "workshop"
  },
  "language_info": {
   "codemirror_mode": {
    "name": "ipython",
    "version": 3
   },
   "file_extension": ".py",
   "mimetype": "text/x-python",
   "name": "python",
   "nbconvert_exporter": "python",
   "pygments_lexer": "ipython3",
   "version": "3.7.6"
  }
 },
 "nbformat": 4,
 "nbformat_minor": 5
}
