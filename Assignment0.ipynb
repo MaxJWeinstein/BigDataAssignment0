{
 "cells": [
  {
   "cell_type": "markdown",
   "id": "ad81d3be-303e-475a-a236-9577cc63f484",
   "metadata": {
    "tags": []
   },
   "source": [
    "# Assignment 0\n",
    "\n",
    "## Table of Contents\n",
    "\n",
    "* JupyterLab Basics\n",
    "\n",
    "    * What is a Notebook?\n",
    "    \n",
    "    * What is a kernel?\n",
    "    \n",
    "    * How to use JupyterLab\n",
    "\n",
    "* Python Basics\n",
    "\n",
    "    * Data Types, Variable Assignment\n",
    "    \n",
    "    * Basic useful functions and operations (print, +=, %, //)\n",
    "    \n",
    "    * Control Flow\n",
    "    \n",
    "    * Objects\n",
    "    \n",
    "    * Functions\n",
    "    \n",
    "    * Exceptions\n",
    "    \n",
    "    * Miscellaneous Useful built-ins (sys, os, pickle)\n",
    "    \n",
    "* Rhino Basics\n",
    "\n",
    "* NumPy\n",
    "\n",
    "* Matplotlib\n",
    "\n",
    "* Pandas\n",
    "\n",
    "* xArray\n",
    "\n",
    "* Statistics"
   ]
  },
  {
   "cell_type": "markdown",
   "id": "387625f0-bb79-4589-96d4-f53da0cefac3",
   "metadata": {
    "tags": []
   },
   "source": [
    "## JupyterLab Basics\n",
    "\n"
   ]
  },
  {
   "cell_type": "markdown",
   "id": "71de039e-632f-4899-9676-67d191a47f69",
   "metadata": {},
   "source": [
    "Project Jupyter Docs: https://docs.jupyter.org/en/latest/index.html\n",
    "\n",
    "JupyterLab Docs: https://jupyterlab.readthedocs.io/en/latest/\n",
    "\n",
    "Jupyter Architecture: https://docs.jupyter.org/en/latest/projects/architecture/content-architecture.html\n",
    "\n",
    "JupyterHub Docs: https://jupyterhub.readthedocs.io/en/latest/\n",
    "\n",
    "IPython Docs: https://ipython.readthedocs.io/en/stable/\n",
    "\n",
    "Jupyter Client Docs: https://jupyter-client.readthedocs.io/en/latest/\n",
    "\n",
    "jupyter_core Docs: https://jupyter-core.readthedocs.io/en/latest/\n",
    "\n",
    "Jupyter Widgets Docs: https://ipywidgets.readthedocs.io/en/stable/\n",
    "\n",
    "Notebook Diff-ing: https://nbdime.readthedocs.io/en/latest/\n",
    "\n",
    "nbgrader: https://nbgrader.readthedocs.io/en/latest/"
   ]
  },
  {
   "cell_type": "markdown",
   "id": "a6030801-8b52-4940-bf99-1f152487d9a9",
   "metadata": {},
   "source": [
    "### Interactive Python\n",
    "\n",
    "If you open up a terminal (either with your computer's terminal application, or in JupyterLab by pressing the blue plus sign and selecting 'Terminal' in the 'Launcher' tab that pops up) and enter the command `python`, you should be greeted with something similar to this:\n",
    "\n",
    "<p><img src=\"images/interactive-python-prompt.png\" alt=\"Interactive Python Command-Line Prompt\" title=\"Interactive Python Session\" style=\"width:30%;height:30%\"/></p>\n",
    "\n",
    "(Don't worry if some parts of it look different on your computer - that just means that your terminal is set up differently from the one this screenshot was taken from.)\n",
    "\n",
    "You have now entered an *interactive Python session*, meaning that if you type something and press `Enter`, your computer will run it as Python code, and present you with another *prompt* (that's the `>>>` thing at the start of the line) while it waits for your next instruction. You can also enter the command `help`, like the opening prompt suggests, to get some help. You can try it out for yourself:\n",
    "\n",
    "<p><img src=\"images/interactive-python-playing-around.png\" alt=\"Playing Around With Interactive Python\" title=\"Exploring the Basics\" style=\"width:20%;height:20%\"/></p>\n",
    "\n",
    "Notice how the result of each line gets printed below it. You can store values in variables to use them later - notice that nothing gets printed after lines like `x=1`, because those line don't return a value:\n",
    "\n",
    "<p><img src=\"images/interactive-python-variables.png\" alt=\"Variables in Interactive Python\" title=\"Using Variables Interactively\" style=\"width:15%;height:15%\"></p>\n",
    "\n",
    "Now, you will not be using this built-in version of interactive Python sessions in this class for anything other than perhaps for testing simple ideas (e.g. \"Does this function work how I think it does?\"). But even in that case, probably not. Because there is a better way to run Python interactively, which is the foundation of the \"Notebook\" you're reading this from right now: IPython.\n",
    "\n",
    "Before moving on, you can end your interactive Python session by entering the command `quit()`. Also, you should be in JupyterLab for all of the following sections, if you weren't already."
   ]
  },
  {
   "cell_type": "markdown",
   "id": "f238ac37-8521-438c-965c-863d5506d272",
   "metadata": {
    "tags": []
   },
   "source": [
    "### IPython\n",
    "\n",
    "If you open up the Launcher in JupyterLab (by clicking the blue plus sign in the top left), you should see three sections: \"Notebook\", \"Console\", and \"Other\". We're going to focus on the \"Console\" section here. It should have two boxes, labeled \"Python 3 (ipykernel)\" and \"workshop\". For now it doesn't matter which one you choose.\n",
    "\n",
    "<p><img src=\"images/jupyterlab-open-console.png\" alt=\"Opening a Console in JupyterLab\" title=\"How to open a new console in JupyterLab\" style=\"width:30%;height:30%\"></p>\n",
    "\n",
    "You'll be met with a screen not unlike the interactive Python session, except that the prompt is gone. Instead, your cursor is in a space at the bottom of the screen, which has a pair of open brackets next to it:\n",
    "\n",
    "![IPython Prompt](images/ipython-prompt-line.png \"The IPython command prompt\")\n",
    "\n",
    "This screen is running *IPython*, an application that takes Python's built-in interactive mode and improves upon it in many areas. For instance, you may notice that your code is colored in a way that makes it easier to read and understand (called *syntax highlighting*). This IPython Code Console also makes it easier to write commands that take more than one line: when you hit `Enter`, you'll add a new line to your command, and you can continue working on your command until you're ready to run it, by pressing `Shift+Enter`. We'll refer to these commands as *cells* from now on (this will make more sense soon).\n",
    "\n",
    "A few of the basic features of IPython to be aware of:\n",
    "\n",
    "* If you run `?` by itself, IPython will give you an overview of its features\n",
    "\n",
    "* If you run `x?`, where `x` is a variable (really `x` just needs to be a *name*, whether the thing it names is a number, a function, or anything else), IPython will give you a description of `x`. Use `x??` for even more details on `x`\n",
    "\n",
    "* If you press `Tab` while typing, IPython will list the different ways you could finish the word you're typing, and if there's exactly one possible guess it will complete it for you. This is called *tab completion*. It's very handy if you have a long variable name that you don't want to misspell, or if you want to look at the different attributes a variable has (by typing, e.g. `x.<TAB>` to get a list of the attributes `x` has)\n",
    "\n",
    "And a few of the more advanced features of IPython, in case they're ever relevant:\n",
    "\n",
    "* IPython has commands called \"*magic functions*\", which come at the beginning of a line and start with `%` (or `%%`, if you want it to affect the whole cell it's in). Most of these probably aren't worth taking the time to learn, but a useful yet simple magic function is `%timeit` (or `%%timeit`). As you can probably guess, they tell you how long it takes that line (or cell) to run\n",
    "\n",
    "    * There are one or two other magic functions that will come up in this assignment. They, like `%timeit`, are not essential\n",
    "\n",
    "* You can run terminal commands from IPython by inserting a `!`. The rest of the line after the exclamation point will be passed to the operating system. For instance, you can run `myfiles = !ls` to get a list of the files and directories in your working directory. This is generally not a good idea, as there are usually safer ways to do the same things using only Python\n"
   ]
  },
  {
   "cell_type": "markdown",
   "id": "172e3ee7-4817-4054-96ab-dd1adfb0160b",
   "metadata": {
    "tags": []
   },
   "source": [
    "### Kernels\n",
    "\n",
    "If you recall how the Launcher looked, there were two boxes in the Console section. What do they mean?\n",
    "\n",
    "The two ways of \"running Python interactively\" we've seen so far are examples of *REPLs*. This stands for *Read, Evaluate, Print, Loop*, and it summarizes what they do on a basic level:\n",
    "\n",
    "* *Read* user input: This is what happens when you hit `Enter` or `Shift+Enter` when you want to run your command\n",
    "\n",
    "* *Evaluate* the input appropriately: In our case, this usually means running it as Python code, with all the effects of the previously-run cells still in force\n",
    "\n",
    "* *Print* the result of this evaluation to the screen: If there is no \"result\", then nothing gets printed at this step\n",
    "\n",
    "* *Loop*: Go back the Read step and wait for the next piece of user input. Keep looping like this until told to stop\n",
    "\n",
    "In additon to improving on the User Interface of the built-in Python REPL, IPython changed its REPL model by performing the evaluation part in a separately running program, called a *kernel*. When you start up the IPython Code Console, you are actually running two computer programs: the *client* (here, the Code Console) and the kernel. The client takes your input (Python code, mostly), does some processing to make working with it easier, and sends it off to the kernel. The kernel attempts to evaluate your input, and sends a message back to the client letting it know when it's finished, and tells the client what the result was. Finally, the client takes any results, prints them, and gets ready to handle the next piece of user input.\n",
    "\n",
    "Using a separate kernel has several benefits. It's possible for multiple clients to share a kernel, allowing them to share variables. So while you work on your assignment in a Jupyter Notebook, you can have a Code Console in a window to the side connected to the same kernel, allowing you to check the values of variables and the results of expressions quite easily. It's also possible for the client(s) and the kernel to run on different computers, as they just need to be able to communicate. This means a user can run resource-intensive Python code through a web browser, by connecting to a kernel running on a server. Separating out the kernel also makes it easier to customize the REPL. For instance, the \"workshop\" kernel that we're using for this course is already loaded with the right libraries, so anytime someone starts up a console with this kernel, they'll have access to the libraries they need. Lastly, having a separate kernel process means that we can close JupyterLab and come back the next day to still have our variables defined the same way, because we left our kernel running. This doesn't mean that you should never shut down your kernels - like having too many browser tabs open, leaving many kernels running is usually unnecessary and takes away resources from the rest of the computer. If you don't want to lose the result of a calculation, you should save it to a file. (We go over saving results with the `pickle` module further down.)\n",
    "\n",
    "It's worth addressing that the word \"kernel\" is used both for the running process that clients communicate with to evaluate code, and for the program used to start that process. If you start up a Console with the \"workshop\" kernel and define a variable, that variable is not permanently a part of the \"workshop\" kernel, because here '\"workshop\" kernel' is a program used to start a new kernel process. You can use that kernel process for a different Console and have access to the variable that way, but when you shut down or restart the kernel process, the variables you defined are not saved."
   ]
  },
  {
   "cell_type": "markdown",
   "id": "6994b165-b40f-425f-80e3-be58f09a8943",
   "metadata": {
    "execution": {
     "iopub.execute_input": "2023-07-18T12:38:58.612498Z",
     "iopub.status.busy": "2023-07-18T12:38:58.611918Z",
     "iopub.status.idle": "2023-07-18T12:38:58.639468Z",
     "shell.execute_reply": "2023-07-18T12:38:58.638028Z",
     "shell.execute_reply.started": "2023-07-18T12:38:58.612336Z"
    },
    "tags": []
   },
   "source": [
    "### Jupyter Notebooks\n",
    "\n",
    "At last, we come to Jupyter Notebooks. What is a Jupyter Notebook, you ask? Well, it's the thing you're reading right now! But for a broader sense, here's the opener from the Jupyter Documentation:\n",
    "\n",
    ">A notebook is a shareable document that combines computer code, plain language descriptions, data, rich visualizations like 3D models, charts, graphs and figures, and interactive controls. A notebook, along with an editor like JupyterLab, provides a fast interactive environment for prototyping and explaining code, exploring and visualizing data, and sharing ideas with others.\n",
    "\n",
    "And here's how it's explained in the JupyterLab Documentation:\n",
    "\n",
    ">Jupyter notebooks are documents that combine live runnable code with narrative text (Markdown), equations (LaTeX), images, interactive visualizations and other rich output\n",
    "\n",
    "In a concrete sense, Jupyter Notebooks are files (with the extension `.ipynb`) that combine formatted text and images with blocks of code that can be run one-by-one (\"*code cells*\"). All of the content in a Notebook is actually organized into *cells* (*Markdown cells* and *raw cells*, although the latter type only has niche uses). Much of the work in this course consists of writing and running code cells in Notebooks.\n",
    "\n",
    "In order to run the code cells, Jupyter Notebooks use the infrastructure we talked about in IPython: When you open a Notebook in JupyterLab, you also open a kernel that's kept running behind the scenes. (We will be using the \"workshop\" kernel on Rhino for everything in this class.) When you run a code cell, it gets sent off to the kernel to run, and any results are printed below the cell. It's kind of like taking the code cell you want to run and copy-pasting it into a Code Console. In fact, you'll see that the appearance is largely the same, too: each code cell has brackets next to it that tell you when you ran the cell (i.e. whether it was the 1st you ran, or the 2nd, the 3rd, the 25th, etc., or that it hasn't been ran yet).\n",
    "\n",
    "<p><img src=\"images/notebook_components.png\" alt=\"A diagram of the components of using a Jupyter Notebook\" title=\"The components of a Jupyter Notebook\"></p>\n",
    "\n",
    "Here, try it out for yourself! This is a code cell that should display the text `Hello, world!`. You can run it by clicking on the cell and pressing `Shift+Enter`:"
   ]
  },
  {
   "cell_type": "code",
   "execution_count": 16,
   "id": "e3362abc-1d5d-4f9b-9a13-fc038b026d1a",
   "metadata": {
    "execution": {
     "iopub.execute_input": "2023-07-19T19:07:43.102382Z",
     "iopub.status.busy": "2023-07-19T19:07:43.101917Z",
     "iopub.status.idle": "2023-07-19T19:07:43.108389Z",
     "shell.execute_reply": "2023-07-19T19:07:43.107012Z",
     "shell.execute_reply.started": "2023-07-19T19:07:43.102325Z"
    },
    "tags": []
   },
   "outputs": [
    {
     "name": "stdout",
     "output_type": "stream",
     "text": [
      "Hello, world!\n"
     ]
    }
   ],
   "source": [
    "print(\"Hello, world!\")"
   ]
  },
  {
   "cell_type": "markdown",
   "id": "3edc044b-b8bf-4eac-b088-6774890333fa",
   "metadata": {},
   "source": [
    "And even though these cells don't say to print anything, the result of the last line should still appear underneath: (Again, `Shift+Enter` to run each cell)"
   ]
  },
  {
   "cell_type": "code",
   "execution_count": 10,
   "id": "f65ad7a5-4f24-4b83-b901-738cc7e26243",
   "metadata": {
    "execution": {
     "iopub.execute_input": "2023-07-19T13:36:08.504345Z",
     "iopub.status.busy": "2023-07-19T13:36:08.503882Z",
     "iopub.status.idle": "2023-07-19T13:36:08.513837Z",
     "shell.execute_reply": "2023-07-19T13:36:08.512493Z",
     "shell.execute_reply.started": "2023-07-19T13:36:08.504287Z"
    },
    "tags": []
   },
   "outputs": [
    {
     "data": {
      "text/plain": [
       "16.0"
      ]
     },
     "execution_count": 10,
     "metadata": {},
     "output_type": "execute_result"
    }
   ],
   "source": [
    "7 + 3\n",
    "3*4 + (6 - 4/2)"
   ]
  },
  {
   "cell_type": "code",
   "execution_count": 11,
   "id": "215d636e-a642-4cdb-81c3-f2468cb83e2d",
   "metadata": {
    "execution": {
     "iopub.execute_input": "2023-07-19T13:36:09.720073Z",
     "iopub.status.busy": "2023-07-19T13:36:09.719673Z",
     "iopub.status.idle": "2023-07-19T13:36:09.729176Z",
     "shell.execute_reply": "2023-07-19T13:36:09.727771Z",
     "shell.execute_reply.started": "2023-07-19T13:36:09.720019Z"
    },
    "tags": []
   },
   "outputs": [
    {
     "data": {
      "text/plain": [
       "1.4142135623730951"
      ]
     },
     "execution_count": 11,
     "metadata": {},
     "output_type": "execute_result"
    }
   ],
   "source": [
    "x = 2**(1/2)\n",
    "x # <-- You might find it helpful sometimes to check the value of a variable by placing it on the last line of a code cell. It often produces a nicer-looking output than using a print statement!"
   ]
  },
  {
   "cell_type": "markdown",
   "id": "860af46b-a703-42bf-ad8e-9156180f8ee0",
   "metadata": {
    "execution": {
     "iopub.execute_input": "2023-07-18T12:38:58.612498Z",
     "iopub.status.busy": "2023-07-18T12:38:58.611918Z",
     "iopub.status.idle": "2023-07-18T12:38:58.639468Z",
     "shell.execute_reply": "2023-07-18T12:38:58.638028Z",
     "shell.execute_reply.started": "2023-07-18T12:38:58.612336Z"
    },
    "tags": []
   },
   "source": [
    "### JupyterLab: What Is This Thing, and How Do I Use It?\n",
    "\n",
    "JupyterLab is an interface you run on a web browser that's used primarily for working with Notebooks. Here's how it describes itself in its documentation:\n",
    "\n",
    "> JupyterLab provides flexible building blocks for interactive, exploratory computing. While JupyterLab has many features found in traditional integrated development environments (IDEs), it remains focused on interactive, exploratory computing.\n",
    "\n",
    "You can do more than just create and edit Notebooks in JupyterLab. We've already seen that you can open terminals, giving you access to the Rhino2 file system (whether or not you have permissions to open a given file or directory on Rhino2 is a different matter...), and that you can open Code Consoles. You can also open other types of files in JupyterLab, including images, spreadsheets, plain text files, and PDFs. It's even possible to open a web site in JupyterLab! (Although there isn't much need to do so.) In a lot of ways, you can think of JupyterLab as providing a convenient Graphical User Interface to Rhino2, allowing you to do work on Rhino2 as you would on the computer right in front of you.\n",
    "\n",
    "Alright, enough talking about *what* you can do on JupyterLab; let's talk about *how* you can do them.\n",
    "\n",
    "#### Files and Kernels\n",
    "\n",
    "On the left sidebar, there is a *file browser*, where you can navigate to, open, create, and delete any of your files and folders on Rhino2. To open an existing file for editing, just double-click on it. Some files have different ways they can be opened, which can be found by right-clicking the file.\n",
    "\n",
    "When you open a Notebook for the first time, you will be prompted with a drop-down menu to select a kernel to use with the Notebook. For this class, always use the \"workshop\" kernel. JupyterLab saves this preference for the next time you open that Notebook. You can change the kernel you want to be using for a Notebook at any time by clicking on the kernel name, either in the bottom left or in the top right of the screen, or through the \"Kernel\" section of the *menu bar*.\n",
    "\n",
    "<p><center><img src=\"images/kernel-and-files.png\" alt=\"Pointing out the file browser and the places you can change your kernel\" title=\"File Browser and Kernel\" style=\"width:40%;height:40%\"></center></p>\n",
    "\n",
    "When you close a Notebook, the kernel keeps running. To shut down a kernel, either use the \"Kernel\" section of the menu bar, or go to *Running Terminals and Kernels* in the left sidebar (its icon looks like a circle with square cut out of it). From there, you can shut down any kernel or terminal that's still running.\n",
    "\n",
    "#### Basic Tips\n",
    "\n",
    "Most of using JupyterLab beyond this point can be figured out easily on your own (with some googling, perhaps). But here are some tips to help you get started:\n",
    "\n",
    "* You can run a cell by pressing the Play button in the top left of the Notebook, by pressing \"Run Selected Cells\" in the \"Run\" section of the Menu Bar, or by just pressing `Ctrl+Enter`\n",
    "\n",
    "* The left sidebar has a \"Table of Contents\" that can make it easier to navigate a Notebook\n",
    "\n",
    "* Pressing the Stop button in the top left of the Notebook will \"interrupt the kernel,\" cancelling execution of the cell being run. If you accidentally write an infinite loop, or you're about to overwrite a file that you want to keep, then this is for you\n",
    "\n",
    "* If something weird is happening, you can try *restarting your kernel* through the \"Kernel\" section of the Menu Bar. This is the equivalent of restarting a computer, or quitting and reopening an application. One way it might fix your problem is by giving you a fresh IPython session, without any variables that could be causing unexpected behavior, since restarting the kernel gets rid of *all* of the variables you've defined.\n",
    "\n",
    "\n",
    "#### Keyboard Shortcuts\n",
    "\n",
    "There are a number of keyboard shortcuts in JupyterLab that can help you write code more quickly. You can view your keyboard shortcuts in the *Advanced Settings Editor*, either by navigating to it in the \"Settings\" section of the menu bar, or by pressing `Meta+,` (where `Meta` is the Command key &#X2318; or the Windows key &#X229E;, depending on your keyboard). In order to get the most use out of the shortcuts, you should know that while you are interacting with a Notebook, you can be in one of two modes:\n",
    "\n",
    "* *Command Mode*, where you can select cells and use keyboard shortcuts that affect whole cells (like copying, deleting, and adding cells)\n",
    "\n",
    "* and *Edit Mode*, where you can edit the contents of a cell (this is just normal typing/coding)\n",
    "\n",
    "You can look in the bottom right of the screen to see which mode you're in. You can also tell which mode you're in by the appearance of the cell(s) you have *selected*. When a cell is selected, it will have a blue bar to its left, and its border will be visible. Additionally, the border will be blue if you are in Edit Mode, and the background will be grey if you are in Command Mode. (Code cells that have been modified since the last time they ran will be orange instead of blue.) Your cursor will also only be visible when you are in Edit Mode.\n",
    "\n",
    "For a better sense of your keyboard shortcuts you can go to the Advanced Settings Editor, but here are some highlights from the default shortcuts:\n",
    "\n",
    "* Command Mode:\n",
    "\n",
    "    * `A`/`B`: Insert a new cell Above/Below the selected cell(s)\n",
    "    \n",
    "    * `J`/`K`: Move Up/Down one cell\n",
    "    \n",
    "        * Hold `Shift` to select multiple cells\n",
    "        \n",
    "    * `D` twice: Delete the selected cell(s)\n",
    "    \n",
    "    * `I` twice: Interrupt the kernel (if the kernel is running a cell, this tells it to stop and return an error)\n",
    "    \n",
    "    * `0` twice: Restart the kernel (a message will appear to confirm that you want to)\n",
    "    \n",
    "    * `Z`: Undo (this considers changes across the whole Notebook, not just within the selected cell(s))\n",
    "    \n",
    "    * `Enter`: Enter Edit Mode (in the most recently selected cell)\n",
    "    \n",
    "* Edit Mode:\n",
    "\n",
    "    * `Ctrl+Shift+-`: Split the current cell in two at the cursor\n",
    "    \n",
    "    * `Esc` or `Ctrl+M`: Enter Command Mode (with the current cell selected)\n",
    "\n",
    "* Both Modes:\n",
    "\n",
    "    * `Shift+Enter`: Run the selected cell(s) and move down one cell (you are placed in Command Mode)\n",
    "    \n",
    "        * If there are no cells below your selection, this command will insert a new cell at the end of the Notebook to move to\n",
    "\n",
    "    * `Ctrl+Enter`: Run the selected cell(s) without moving cells (you are placed in Command Mode)\n",
    "    \n",
    "        * If you have multiple cells selected, only the last cell will remain selected\n",
    "\n",
    "    * `Alt+Enter`/`Option+Enter`: Run the selected cell(s) and insert a new cell below (you are placed in the new cell, in Edit Mode)\n",
    "    \n",
    "You can add or change the keyboard shortcuts in the Advance Settings Editor if you want, and there are many other settings you can adjust to fit your preferences."
   ]
  }
 ],
 "metadata": {
  "kernelspec": {
   "display_name": "workshop",
   "language": "python",
   "name": "workshop"
  },
  "language_info": {
   "codemirror_mode": {
    "name": "ipython",
    "version": 3
   },
   "file_extension": ".py",
   "mimetype": "text/x-python",
   "name": "python",
   "nbconvert_exporter": "python",
   "pygments_lexer": "ipython3",
   "version": "3.7.6"
  }
 },
 "nbformat": 4,
 "nbformat_minor": 5
}
